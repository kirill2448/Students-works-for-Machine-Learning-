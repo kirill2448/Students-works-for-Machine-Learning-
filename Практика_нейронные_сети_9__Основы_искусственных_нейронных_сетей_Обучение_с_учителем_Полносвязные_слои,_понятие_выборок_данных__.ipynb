{
  "nbformat": 4,
  "nbformat_minor": 0,
  "metadata": {
    "colab": {
      "provenance": []
    },
    "kernelspec": {
      "name": "python3",
      "display_name": "Python 3"
    },
    "accelerator": "GPU"
  },
  "cells": [
    {
      "cell_type": "markdown",
      "metadata": {
        "id": "M77ZiM9UFnGz"
      },
      "source": [
        "### Установка и загрузка необходимых модулей"
      ]
    },
    {
      "cell_type": "code",
      "metadata": {
        "id": "XdrXZ8btkxJN"
      },
      "source": [
        "from tensorflow.keras.models import Sequential\n",
        "from tensorflow.keras.layers import Dense, Conv2D, MaxPooling2D, Flatten, Dropout, BatchNormalization, GlobalAveragePooling2D\n",
        "from tensorflow.keras import utils\n",
        "import numpy as np\n",
        "import pandas as pd\n",
        "import matplotlib.pyplot as plt\n",
        "\n",
        "from tensorflow.keras.optimizers import Adam\n",
        "\n",
        "import tensorflow as tf\n",
        "from sklearn.model_selection import train_test_split\n",
        "\n",
        "from google.colab import drive\n"
      ],
      "execution_count": null,
      "outputs": []
    },
    {
      "cell_type": "markdown",
      "metadata": {
        "id": "S2Q6N3YvxZHZ"
      },
      "source": [
        "##**Задание 1.** \n",
        "Загрузите из датасета по ссылке ниже базу цифр MNIST, а также базу для тестирования. С помощью методов, изученных в занятиях по работе с таблицами Pandas, Анализ и обработка данных, и данном занятии, обработайте датасет и подайте в нейронную сеть, постаравшись добиться максимальной точности распознавания. Для улучшения обучения можно использовать также дополнительные методы, не рассмотренные в занятиях, слои, функции активации, менять параметры оптимизатора Adam и прочие гиперпараметры. Результаты рекомендуется заносить в таблицу для себя, чтобы можно было потом воспроизвести лучший вариант. Предсказание Вашей сети необходимо отправить в виде специального файла с расширением csv, чтобы войти в рейтинговую таблицу соревнования. Следуйте коду в ноутбуке \n",
        "для создания ответа. Ответ можно улучшить и подавать результат несколько раз. \n",
        "\n"
      ]
    },
    {
      "cell_type": "markdown",
      "metadata": {
        "id": "dvoazCaTMb1m"
      },
      "source": [
        "Описание: Файлы данных этого датасета - train.csv и test.csv - содержат полутоновые изображения нарисованных от руки цифр от нуля до девяти.\n",
        "\n",
        "Каждое изображение имеет 28 пикселей в высоту и 28 пикселей в ширину, всего 784 пикселя. Каждый пиксель имеет одно связанное с ним значение пикселя, указывающее яркость или темноту этого пикселя, причем более низкие числа означают более темный. Это значение пикселя представляет собой целое число от 0 до 255 включительно.\n",
        "\n",
        "Набор обучающих данных (train.csv) содержит 785 столбцов. Первый столбец, называемый «метка» (label), - это цифра, нарисованная пользователем. Остальные столбцы содержат значения пикселей связанного изображения.\n",
        "\n",
        "Каждый столбец пикселей в обучающем наборе имеет имя, например pixelx, где x - целое число от 0 до 783 включительно. Чтобы найти этот пиксель на изображении, предположим, что мы разложили x как x = i * 28 + j, где i и j - целые числа от 0 до 27 включительно. Тогда pixelx расположен в строке i и столбце j матрицы 28 x 28 (индексирование нулем).\n",
        "\n",
        "Например, pixel31 указывает пиксель, который находится в четвертом столбце слева и во второй строке сверху, как на ascii-диаграмме ниже.\n",
        "\n",
        "Визуально, если мы опускаем префикс «пиксель», пиксели составляют изображение следующим образом:\n",
        "\n",
        "000 001 002 003 ... 026 027\n",
        "\n",
        "028 029 030 031 ... 054 055\n",
        "\n",
        "056 057 058 059 ... 082 083\n",
        "\n",
        " |   |   |   |  ...  |   |\n",
        "\n",
        "728 729 730 731 ... 754 755\n",
        "\n",
        "756 757 758 759 ... 782 783\n",
        "\n",
        "Набор тестовых данных (test.csv) такой же, как обучающий набор, за исключением того, что он не содержит столбца «метка».\n",
        "\n",
        "Ваш файл отправки должен быть в следующем формате: для каждого из 28000 изображений в тестовом наборе выведите одну строку, содержащую ImageId и прогнозируемую цифру. Например, если вы предсказываете, что первое изображение имеет 3, второе изображение - 7, а третье изображение - 8, то ваш файл отправки будет выглядеть так:\n",
        "\n",
        "ImageId,Label\n",
        "\n",
        "1,3\n",
        "\n",
        "2,7\n",
        "\n",
        "3,8\n",
        " \n",
        "(ещё 27997 строк)\n",
        "\n",
        "Метрика оценки для этого конкурса - точность категоризации или доля тестовых изображений, которые правильно классифицированы. Например, точность категоризации 0,97 означает, что вы правильно классифицировали все изображения, кроме 3%."
      ]
    },
    {
      "cell_type": "markdown",
      "metadata": {
        "id": "MSVxut7ZBnPS"
      },
      "source": [
        "##Решение"
      ]
    },
    {
      "cell_type": "markdown",
      "metadata": {
        "id": "RWrlu3Vl2E3c"
      },
      "source": [
        "#### Создаём правильную папку для ключа Каггл"
      ]
    },
    {
      "cell_type": "code",
      "metadata": {
        "id": "SUpEMyAVEv3z",
        "outputId": "5bdd3150-4e36-413c-8d8f-adac4ad93b28",
        "colab": {
          "base_uri": "https://localhost:8080/"
        }
      },
      "source": [
        "!mkdir /root/.kaggle # создаём папку ~/.kaggle для ключа kaggle в Колабе, она должна быть такой по требованию Каггл"
      ],
      "execution_count": null,
      "outputs": [
        {
          "output_type": "stream",
          "name": "stdout",
          "text": [
            "mkdir: cannot create directory ‘/root/.kaggle’: File exists\n"
          ]
        }
      ]
    },
    {
      "cell_type": "code",
      "metadata": {
        "colab": {
          "base_uri": "https://localhost:8080/"
        },
        "id": "Ll5gq1rhE1ay",
        "outputId": "ec5a2544-7193-466a-8c8d-1b1417337333"
      },
      "source": [
        "# переходим в папку, теперь это путь по умолчанию\n",
        "%cd /root/.kaggle "
      ],
      "execution_count": null,
      "outputs": [
        {
          "output_type": "stream",
          "name": "stdout",
          "text": [
            "/root/.kaggle\n"
          ]
        }
      ]
    },
    {
      "cell_type": "code",
      "metadata": {
        "colab": {
          "base_uri": "https://localhost:8080/"
        },
        "id": "hZIiLWcoJmGM",
        "outputId": "de0cbefa-650c-47a9-c31d-c5bfeb47b017"
      },
      "source": [
        "#запускаем - подключаем Google Drive - будем скачивать с него, т.к. намного быстрее\n",
        "#после запуска переходим по ссылке, которая появится, для идентификации\n",
        "#копируем оттуда код authorization code и вставляем здесь в окошко\n",
        "drive.mount('/content/drive')"
      ],
      "execution_count": null,
      "outputs": [
        {
          "output_type": "stream",
          "name": "stdout",
          "text": [
            "Drive already mounted at /content/drive; to attempt to forcibly remount, call drive.mount(\"/content/drive\", force_remount=True).\n"
          ]
        }
      ]
    },
    {
      "cell_type": "code",
      "metadata": {
        "id": "AvC38DWIKTk9",
        "outputId": "8cfa4eba-135a-4ce9-c8d4-37fe0274fe13",
        "colab": {
          "base_uri": "https://localhost:8080/"
        }
      },
      "source": [
        "# копируем ключ с Google Drive в созданную выше папку, предварительно её создав:\n",
        "!cp '/content/drive/My Drive/datasets/kaggle/kaggle.json' '/root/.kaggle/kaggle.json'"
      ],
      "execution_count": null,
      "outputs": [
        {
          "output_type": "stream",
          "name": "stdout",
          "text": [
            "cp: cannot stat '/content/drive/My Drive/datasets/kaggle/kaggle.json': No such file or directory\n"
          ]
        }
      ]
    },
    {
      "cell_type": "code",
      "metadata": {
        "colab": {
          "base_uri": "https://localhost:8080/"
        },
        "id": "lM42Vv3Dn-zR",
        "outputId": "7d86e520-83dd-4002-9355-3b063318522f"
      },
      "source": [
        "!kaggle --version"
      ],
      "execution_count": null,
      "outputs": [
        {
          "output_type": "stream",
          "name": "stdout",
          "text": [
            "Traceback (most recent call last):\n",
            "  File \"/usr/local/bin/kaggle\", line 5, in <module>\n",
            "    from kaggle.cli import main\n",
            "  File \"/usr/local/lib/python3.7/dist-packages/kaggle/__init__.py\", line 23, in <module>\n",
            "    api.authenticate()\n",
            "  File \"/usr/local/lib/python3.7/dist-packages/kaggle/api/kaggle_api_extended.py\", line 166, in authenticate\n",
            "    self.config_file, self.config_dir))\n",
            "OSError: Could not find kaggle.json. Make sure it's located in /root/.kaggle. Or use the environment method.\n"
          ]
        }
      ]
    },
    {
      "cell_type": "code",
      "metadata": {
        "id": "hfTt9PCBOHnE"
      },
      "source": [
        "!ls"
      ],
      "execution_count": null,
      "outputs": []
    },
    {
      "cell_type": "markdown",
      "metadata": {
        "id": "1xkp9LMs9vZn"
      },
      "source": [
        "###Подключаемся к системе соревнований, скачиваем датасет"
      ]
    },
    {
      "cell_type": "code",
      "metadata": {
        "colab": {
          "base_uri": "https://localhost:8080/"
        },
        "id": "3LTsZrt7OMch",
        "outputId": "6a19232f-1dde-402c-c5dc-95f3c7e18ed7"
      },
      "source": [
        "!kaggle competitions download -c digit-recognizer # скачиваем датасет и тестовые данные"
      ],
      "execution_count": null,
      "outputs": [
        {
          "output_type": "stream",
          "name": "stdout",
          "text": [
            "Traceback (most recent call last):\n",
            "  File \"/usr/local/bin/kaggle\", line 5, in <module>\n",
            "    from kaggle.cli import main\n",
            "  File \"/usr/local/lib/python3.7/dist-packages/kaggle/__init__.py\", line 23, in <module>\n",
            "    api.authenticate()\n",
            "  File \"/usr/local/lib/python3.7/dist-packages/kaggle/api/kaggle_api_extended.py\", line 166, in authenticate\n",
            "    self.config_file, self.config_dir))\n",
            "OSError: Could not find kaggle.json. Make sure it's located in /root/.kaggle. Or use the environment method.\n"
          ]
        }
      ]
    },
    {
      "cell_type": "code",
      "metadata": {
        "id": "4KZekvB8U4_d"
      },
      "source": [
        "!ls"
      ],
      "execution_count": null,
      "outputs": []
    },
    {
      "cell_type": "markdown",
      "metadata": {
        "id": "K5w7lkJ39tGk"
      },
      "source": [
        "###Разархивируем датасет"
      ]
    },
    {
      "cell_type": "code",
      "source": [
        "\n",
        "import numpy as np\n",
        "import matplotlib.pyplot as plt\n",
        "from tensorflow.keras.datasets import mnist\n",
        "from tensorflow import keras \n",
        "from tensorflow.keras.layers import Dense, Flatten\n",
        "\n",
        "(x_train, y_train), (x_test, y_test) = mnist.load_data()\n",
        "\n"
      ],
      "metadata": {
        "id": "wG4HxhghYc5P",
        "outputId": "80e7dea4-76e5-4329-939c-5194a519de12",
        "colab": {
          "base_uri": "https://localhost:8080/"
        }
      },
      "execution_count": null,
      "outputs": [
        {
          "output_type": "stream",
          "name": "stdout",
          "text": [
            "Downloading data from https://storage.googleapis.com/tensorflow/tf-keras-datasets/mnist.npz\n",
            "11490434/11490434 [==============================] - 1s 0us/step\n"
          ]
        }
      ]
    },
    {
      "cell_type": "code",
      "source": [
        "plt.figure(figsize=(10,5))\n",
        "for i in range(25):\n",
        "    plt.subplot(5,5,i+1)\n",
        "    plt.xticks([])\n",
        "    plt.yticks([])\n",
        "    plt.imshow(x_train[i], cmap=plt.cm.binary)\n",
        " \n",
        "plt.show()\n"
      ],
      "metadata": {
        "id": "OL-cm5RwYpI4",
        "outputId": "389b4572-a87c-4e30-daf1-77b43663ffc1",
        "colab": {
          "base_uri": "https://localhost:8080/",
          "height": 306
        }
      },
      "execution_count": null,
      "outputs": [
        {
          "output_type": "display_data",
          "data": {
            "text/plain": [
              "<Figure size 720x360 with 25 Axes>"
            ],
            "image/png": "[encoded data removed]"
          },
          "metadata": {}
        }
      ]
    },
    {
      "cell_type": "markdown",
      "metadata": {
        "id": "jtJBpr_X-L8o"
      },
      "source": [
        "###Разделяем данные и метки"
      ]
    },
    {
      "cell_type": "code",
      "metadata": {
        "id": "-Xop0y1s9lK1"
      },
      "source": [
        "x_train ,x_test , y_train ,  y_test = train_test_split(x_train,y_train,test_size=0.3,random_state = 33)"
      ],
      "execution_count": null,
      "outputs": []
    },
    {
      "cell_type": "code",
      "metadata": {
        "colab": {
          "base_uri": "https://localhost:8080/"
        },
        "id": "4StT6UCL9pVh",
        "outputId": "6f21e765-faf9-4753-b494-3035b1222ee0"
      },
      "source": [
        "print(\"X train shape: \",x_train.shape)\n",
        "print(\"Y train shape: \",y_train.shape)\n",
        "print(\"X test shape: \",x_test.shape)\n",
        "print(\"Y test shape: \",y_test.shape)"
      ],
      "execution_count": null,
      "outputs": [
        {
          "output_type": "stream",
          "name": "stdout",
          "text": [
            "X train shape:  (42000, 28, 28)\n",
            "Y train shape:  (42000,)\n",
            "X test shape:  (18000, 28, 28)\n",
            "Y test shape:  (18000,)\n"
          ]
        }
      ]
    },
    {
      "cell_type": "markdown",
      "metadata": {
        "id": "z32mDy8a-VFF"
      },
      "source": [
        "###Создаём сеть, компилируем, обучаем"
      ]
    },
    {
      "cell_type": "code",
      "metadata": {
        "id": "2O6BipEt9QPu"
      },
      "source": [
        "model = Sequential([\n",
        "    Flatten(),\n",
        "    Dense(820,activation=\"relu\"),\n",
        "    Dense(410,activation=\"relu\"),\n",
        "    Dense(10,activation=\"softmax\")\n",
        "])"
      ],
      "execution_count": null,
      "outputs": []
    },
    {
      "cell_type": "code",
      "metadata": {
        "id": "iBXjohGi9Wrh"
      },
      "source": [
        "model.compile(optimizer='adam',loss='sparse_categorical_crossentropy', metrics=['accuracy'])"
      ],
      "execution_count": null,
      "outputs": []
    },
    {
      "cell_type": "code",
      "metadata": {
        "colab": {
          "base_uri": "https://localhost:8080/"
        },
        "id": "e7_W9xkLSA-E",
        "outputId": "b32d6aca-157f-46f3-863d-271a737c93d4"
      },
      "source": [
        "model.fit(x_train,y_train,epochs=40)"
      ],
      "execution_count": null,
      "outputs": [
        {
          "output_type": "stream",
          "name": "stdout",
          "text": [
            "Epoch 1/40\n",
            "1313/1313 [==============================] - 4s 3ms/step - loss: 1.8717 - accuracy: 0.8972\n",
            "Epoch 2/40\n",
            "1313/1313 [==============================] - 4s 3ms/step - loss: 0.2260 - accuracy: 0.9428\n",
            "Epoch 3/40\n",
            "1313/1313 [==============================] - 4s 3ms/step - loss: 0.1801 - accuracy: 0.9529\n",
            "Epoch 4/40\n",
            "1313/1313 [==============================] - 4s 3ms/step - loss: 0.1695 - accuracy: 0.9563\n",
            "Epoch 5/40\n",
            "1313/1313 [==============================] - 4s 3ms/step - loss: 0.1409 - accuracy: 0.9620\n",
            "Epoch 6/40\n",
            "1313/1313 [==============================] - 5s 4ms/step - loss: 0.1378 - accuracy: 0.9647\n",
            "Epoch 7/40\n",
            "1313/1313 [==============================] - 4s 3ms/step - loss: 0.1276 - accuracy: 0.9682\n",
            "Epoch 8/40\n",
            "1313/1313 [==============================] - 4s 3ms/step - loss: 0.1130 - accuracy: 0.9723\n",
            "Epoch 9/40\n",
            "1313/1313 [==============================] - 4s 3ms/step - loss: 0.1058 - accuracy: 0.9743\n",
            "Epoch 10/40\n",
            "1313/1313 [==============================] - 4s 3ms/step - loss: 0.1060 - accuracy: 0.9756\n",
            "Epoch 11/40\n",
            "1313/1313 [==============================] - 4s 3ms/step - loss: 0.0873 - accuracy: 0.9798\n",
            "Epoch 12/40\n",
            "1313/1313 [==============================] - 4s 3ms/step - loss: 0.0804 - accuracy: 0.9817\n",
            "Epoch 13/40\n",
            "1313/1313 [==============================] - 4s 3ms/step - loss: 0.0828 - accuracy: 0.9808\n",
            "Epoch 14/40\n",
            "1313/1313 [==============================] - 4s 3ms/step - loss: 0.0748 - accuracy: 0.9825\n",
            "Epoch 15/40\n",
            "1313/1313 [==============================] - 4s 3ms/step - loss: 0.0787 - accuracy: 0.9826\n",
            "Epoch 16/40\n",
            "1313/1313 [==============================] - 4s 3ms/step - loss: 0.0761 - accuracy: 0.9836\n",
            "Epoch 17/40\n",
            "1313/1313 [==============================] - 4s 3ms/step - loss: 0.0781 - accuracy: 0.9838\n",
            "Epoch 18/40\n",
            "1313/1313 [==============================] - 4s 3ms/step - loss: 0.0702 - accuracy: 0.9852\n",
            "Epoch 19/40\n",
            "1313/1313 [==============================] - 4s 3ms/step - loss: 0.0563 - accuracy: 0.9875\n",
            "Epoch 20/40\n",
            "1313/1313 [==============================] - 4s 3ms/step - loss: 0.0643 - accuracy: 0.9866\n",
            "Epoch 21/40\n",
            "1313/1313 [==============================] - 4s 3ms/step - loss: 0.0708 - accuracy: 0.9862\n",
            "Epoch 22/40\n",
            "1313/1313 [==============================] - 4s 3ms/step - loss: 0.0589 - accuracy: 0.9885\n",
            "Epoch 23/40\n",
            "1313/1313 [==============================] - 4s 3ms/step - loss: 0.0872 - accuracy: 0.9840\n",
            "Epoch 24/40\n",
            "1313/1313 [==============================] - 4s 3ms/step - loss: 0.0633 - accuracy: 0.9884\n",
            "Epoch 25/40\n",
            "1313/1313 [==============================] - 4s 3ms/step - loss: 0.0541 - accuracy: 0.9884\n",
            "Epoch 26/40\n",
            "1313/1313 [==============================] - 4s 3ms/step - loss: 0.0666 - accuracy: 0.9868\n",
            "Epoch 27/40\n",
            "1313/1313 [==============================] - 4s 3ms/step - loss: 0.0689 - accuracy: 0.9859\n",
            "Epoch 28/40\n",
            "1313/1313 [==============================] - 4s 3ms/step - loss: 0.0653 - accuracy: 0.9881\n",
            "Epoch 29/40\n",
            "1313/1313 [==============================] - 4s 3ms/step - loss: 0.0692 - accuracy: 0.9879\n",
            "Epoch 30/40\n",
            "1313/1313 [==============================] - 4s 3ms/step - loss: 0.0698 - accuracy: 0.9870\n",
            "Epoch 31/40\n",
            "1313/1313 [==============================] - 4s 3ms/step - loss: 0.0630 - accuracy: 0.9886\n",
            "Epoch 32/40\n",
            "1313/1313 [==============================] - 4s 3ms/step - loss: 0.0582 - accuracy: 0.9892\n",
            "Epoch 33/40\n",
            "1313/1313 [==============================] - 4s 3ms/step - loss: 0.0783 - accuracy: 0.9867\n",
            "Epoch 34/40\n",
            "1313/1313 [==============================] - 4s 3ms/step - loss: 0.0663 - accuracy: 0.9870\n",
            "Epoch 35/40\n",
            "1313/1313 [==============================] - 4s 3ms/step - loss: 0.0674 - accuracy: 0.9876\n",
            "Epoch 36/40\n",
            "1313/1313 [==============================] - 4s 3ms/step - loss: 0.0589 - accuracy: 0.9891\n",
            "Epoch 37/40\n",
            "1313/1313 [==============================] - 4s 3ms/step - loss: 0.0690 - accuracy: 0.9882\n",
            "Epoch 38/40\n",
            "1313/1313 [==============================] - 4s 3ms/step - loss: 0.0634 - accuracy: 0.9877\n",
            "Epoch 39/40\n",
            "1313/1313 [==============================] - 4s 3ms/step - loss: 0.0920 - accuracy: 0.9864\n",
            "Epoch 40/40\n",
            "1313/1313 [==============================] - 4s 3ms/step - loss: 0.0610 - accuracy: 0.9888\n"
          ]
        },
        {
          "output_type": "execute_result",
          "data": {
            "text/plain": [
              "<keras.callbacks.History at 0x7fc1dc6d87d0>"
            ]
          },
          "metadata": {},
          "execution_count": 56
        }
      ]
    },
    {
      "cell_type": "markdown",
      "metadata": {
        "id": "A98XdpWS-y4R"
      },
      "source": [
        "###Делаем предсказания моделью"
      ]
    },
    {
      "cell_type": "code",
      "metadata": {
        "colab": {
          "base_uri": "https://localhost:8080/"
        },
        "id": "9MJmMma6SK3z",
        "outputId": "b2262c89-71be-4ca9-8f3a-32172fcce198"
      },
      "source": [
        "model.evaluate(x_test,y_test)"
      ],
      "execution_count": null,
      "outputs": [
        {
          "output_type": "stream",
          "name": "stdout",
          "text": [
            "563/563 [==============================] - 1s 2ms/step - loss: 0.4644 - accuracy: 0.9638\n"
          ]
        },
        {
          "output_type": "execute_result",
          "data": {
            "text/plain": [
              "[0.46437403559684753, 0.9637777805328369]"
            ]
          },
          "metadata": {},
          "execution_count": 57
        }
      ]
    },
    {
      "cell_type": "code",
      "metadata": {
        "id": "BDiBoffySPo1",
        "outputId": "30fb7c90-1116-40a1-c9a8-59beb754597b",
        "colab": {
          "base_uri": "https://localhost:8080/"
        }
      },
      "source": [
        "y_pred = model.predict(x_test)\n",
        "y = []\n",
        "for i in range(0,len(y_pred)):\n",
        "    prob = y.append(np.argmax(list(y_pred[i])))"
      ],
      "execution_count": null,
      "outputs": [
        {
          "output_type": "stream",
          "name": "stdout",
          "text": [
            "563/563 [==============================] - 1s 2ms/step\n"
          ]
        }
      ]
    },
    {
      "cell_type": "code",
      "metadata": {
        "colab": {
          "base_uri": "https://localhost:8080/"
        },
        "id": "aAYsEhBHWcgt",
        "outputId": "69937588-2aaf-4d54-fea2-fe606e700511"
      },
      "source": [
        "np.unique(y)"
      ],
      "execution_count": null,
      "outputs": [
        {
          "output_type": "execute_result",
          "data": {
            "text/plain": [
              "array([0, 1, 2, 3, 4, 5, 6, 7, 8, 9])"
            ]
          },
          "metadata": {},
          "execution_count": 59
        }
      ]
    },
    {
      "cell_type": "markdown",
      "metadata": {
        "id": "zCBqQF1k-47m"
      },
      "source": [
        "###Переводим ответ в правильный формат, отсылаем для подсчёта рейтинга"
      ]
    },
    {
      "cell_type": "code",
      "metadata": {
        "id": "2omZcPHTSSgV",
        "colab": {
          "base_uri": "https://localhost:8080/",
          "height": 206
        },
        "outputId": "9a330a73-c2ee-4eb9-83ff-b3a032bfb771"
      },
      "source": [
        "submission = pd.DataFrame({\"ImageId\":range(1,len(y_pred)+1),\"Label\":y})\n",
        "submission.head()"
      ],
      "execution_count": null,
      "outputs": [
        {
          "output_type": "execute_result",
          "data": {
            "text/plain": [
              "   ImageId  Label\n",
              "0        1      6\n",
              "1        2      2\n",
              "2        3      8\n",
              "3        4      2\n",
              "4        5      1"
            ],
            "text/html": [
              "\n",
              "  <div id=\"df-4c1f6378-b0f7-415d-8210-906659bb860b\">\n",
              "    <div class=\"colab-df-container\">\n",
              "      <div>\n",
              "<style scoped>\n",
              "    .dataframe tbody tr th:only-of-type {\n",
              "        vertical-align: middle;\n",
              "    }\n",
              "\n",
              "    .dataframe tbody tr th {\n",
              "        vertical-align: top;\n",
              "    }\n",
              "\n",
              "    .dataframe thead th {\n",
              "        text-align: right;\n",
              "    }\n",
              "</style>\n",
              "<table border=\"1\" class=\"dataframe\">\n",
              "  <thead>\n",
              "    <tr style=\"text-align: right;\">\n",
              "      <th></th>\n",
              "      <th>ImageId</th>\n",
              "      <th>Label</th>\n",
              "    </tr>\n",
              "  </thead>\n",
              "  <tbody>\n",
              "    <tr>\n",
              "      <th>0</th>\n",
              "      <td>1</td>\n",
              "      <td>6</td>\n",
              "    </tr>\n",
              "    <tr>\n",
              "      <th>1</th>\n",
              "      <td>2</td>\n",
              "      <td>2</td>\n",
              "    </tr>\n",
              "    <tr>\n",
              "      <th>2</th>\n",
              "      <td>3</td>\n",
              "      <td>8</td>\n",
              "    </tr>\n",
              "    <tr>\n",
              "      <th>3</th>\n",
              "      <td>4</td>\n",
              "      <td>2</td>\n",
              "    </tr>\n",
              "    <tr>\n",
              "      <th>4</th>\n",
              "      <td>5</td>\n",
              "      <td>1</td>\n",
              "    </tr>\n",
              "  </tbody>\n",
              "</table>\n",
              "</div>\n",
              "      <button class=\"colab-df-convert\" onclick=\"convertToInteractive('df-4c1f6378-b0f7-415d-8210-906659bb860b')\"\n",
              "              title=\"Convert this dataframe to an interactive table.\"\n",
              "              style=\"display:none;\">\n",
              "        \n",
              "  <svg xmlns=\"http://www.w3.org/2000/svg\" height=\"24px\"viewBox=\"0 0 24 24\"\n",
              "       width=\"24px\">\n",
              "    <path d=\"M0 0h24v24H0V0z\" fill=\"none\"/>\n",
              "    <path d=\"M18.56 5.44l.94 2.06.94-2.06 2.06-.94-2.06-.94-.94-2.06-.94 2.06-2.06.94zm-11 1L8.5 8.5l.94-2.06 2.06-.94-2.06-.94L8.5 2.5l-.94 2.06-2.06.94zm10 10l.94 2.06.94-2.06 2.06-.94-2.06-.94-.94-2.06-.94 2.06-2.06.94z\"/><path d=\"M17.41 7.96l-1.37-1.37c-.4-.4-.92-.59-1.43-.59-.52 0-1.04.2-1.43.59L10.3 9.45l-7.72 7.72c-.78.78-.78 2.05 0 2.83L4 21.41c.39.39.9.59 1.41.59.51 0 1.02-.2 1.41-.59l7.78-7.78 2.81-2.81c.8-.78.8-2.07 0-2.86zM5.41 20L4 18.59l7.72-7.72 1.47 1.35L5.41 20z\"/>\n",
              "  </svg>\n",
              "      </button>\n",
              "      \n",
              "  <style>\n",
              "    .colab-df-container {\n",
              "      display:flex;\n",
              "      flex-wrap:wrap;\n",
              "      gap: 12px;\n",
              "    }\n",
              "\n",
              "    .colab-df-convert {\n",
              "      background-color: #E8F0FE;\n",
              "      border: none;\n",
              "      border-radius: 50%;\n",
              "      cursor: pointer;\n",
              "      display: none;\n",
              "      fill: #1967D2;\n",
              "      height: 32px;\n",
              "      padding: 0 0 0 0;\n",
              "      width: 32px;\n",
              "    }\n",
              "\n",
              "    .colab-df-convert:hover {\n",
              "      background-color: #E2EBFA;\n",
              "      box-shadow: 0px 1px 2px rgba(60, 64, 67, 0.3), 0px 1px 3px 1px rgba(60, 64, 67, 0.15);\n",
              "      fill: #174EA6;\n",
              "    }\n",
              "\n",
              "    [theme=dark] .colab-df-convert {\n",
              "      background-color: #3B4455;\n",
              "      fill: #D2E3FC;\n",
              "    }\n",
              "\n",
              "    [theme=dark] .colab-df-convert:hover {\n",
              "      background-color: #434B5C;\n",
              "      box-shadow: 0px 1px 3px 1px rgba(0, 0, 0, 0.15);\n",
              "      filter: drop-shadow(0px 1px 2px rgba(0, 0, 0, 0.3));\n",
              "      fill: #FFFFFF;\n",
              "    }\n",
              "  </style>\n",
              "\n",
              "      <script>\n",
              "        const buttonEl =\n",
              "          document.querySelector('#df-4c1f6378-b0f7-415d-8210-906659bb860b button.colab-df-convert');\n",
              "        buttonEl.style.display =\n",
              "          google.colab.kernel.accessAllowed ? 'block' : 'none';\n",
              "\n",
              "        async function convertToInteractive(key) {\n",
              "          const element = document.querySelector('#df-4c1f6378-b0f7-415d-8210-906659bb860b');\n",
              "          const dataTable =\n",
              "            await google.colab.kernel.invokeFunction('convertToInteractive',\n",
              "                                                     [key], {});\n",
              "          if (!dataTable) return;\n",
              "\n",
              "          const docLinkHtml = 'Like what you see? Visit the ' +\n",
              "            '<a target=\"_blank\" href=https://colab.research.google.com/notebooks/data_table.ipynb>data table notebook</a>'\n",
              "            + ' to learn more about interactive tables.';\n",
              "          element.innerHTML = '';\n",
              "          dataTable['output_type'] = 'display_data';\n",
              "          await google.colab.output.renderOutput(dataTable, element);\n",
              "          const docLink = document.createElement('div');\n",
              "          docLink.innerHTML = docLinkHtml;\n",
              "          element.appendChild(docLink);\n",
              "        }\n",
              "      </script>\n",
              "    </div>\n",
              "  </div>\n",
              "  "
            ]
          },
          "metadata": {},
          "execution_count": 61
        }
      ]
    },
    {
      "cell_type": "code",
      "metadata": {
        "id": "SZ4z20fUoHQw"
      },
      "source": [
        "submission = submission.to_csv('./submission.csv',index=False,header=True)#,encoding='utf-8'"
      ],
      "execution_count": null,
      "outputs": []
    },
    {
      "cell_type": "code",
      "metadata": {
        "colab": {
          "base_uri": "https://localhost:8080/"
        },
        "id": "_rPVrhYhYyqn",
        "outputId": "cbfaa0d2-0f6e-4640-da5f-ac242b854608"
      },
      "source": [
        "!ls"
      ],
      "execution_count": null,
      "outputs": [
        {
          "output_type": "stream",
          "name": "stdout",
          "text": [
            "submission.csv\n"
          ]
        }
      ]
    },
    {
      "cell_type": "markdown",
      "metadata": {
        "id": "X2OrarFaEENY"
      },
      "source": [
        "###Переходим по ссылке, чтобы увидеть таблицу лидеров.\n",
        "\n",
        "https://www.kaggle.com/c/udt3/leaderboard"
      ]
    }
  ]
}