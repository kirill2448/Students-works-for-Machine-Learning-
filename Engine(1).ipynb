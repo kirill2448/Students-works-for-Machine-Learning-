{
  "nbformat": 4,
  "nbformat_minor": 0,
  "metadata": {
    "colab": {
      "provenance": []
    },
    "kernelspec": {
      "name": "python3",
      "display_name": "Python 3"
    },
    "language_info": {
      "name": "python"
    }
  },
  "cells": [
    {
      "cell_type": "code",
      "execution_count": 1,
      "metadata": {
        "id": "wj3vxmVjQQca"
      },
      "outputs": [],
      "source": [
        "from tensorflow.keras.layers import Dense\n",
        "from tensorflow.keras.models import Sequential\n",
        "from tensorflow.keras.optimizers import Nadam"
      ]
    },
    {
      "cell_type": "code",
      "source": [
        "from sklearn.model_selection import  train_test_split\n",
        "import pandas as pd\n",
        "from sklearn.neighbors import KNeighborsClassifier\n",
        "import numpy as np\n",
        "import seaborn as sns\n",
        "from sklearn.metrics import confusion_matrix,accuracy_score\n",
        "import matplotlib.pyplot as plt"
      ],
      "metadata": {
        "id": "vyIqiAh1SHBq"
      },
      "execution_count": 2,
      "outputs": []
    },
    {
      "cell_type": "code",
      "source": [
        "from google.colab import files\n",
        "\n",
        "uploaded = files.upload()"
      ],
      "metadata": {
        "colab": {
          "base_uri": "https://localhost:8080/",
          "height": 73
        },
        "id": "BNNa83wPSNPb",
        "outputId": "1302ec58-5562-455b-cb23-dcb9f0f1b65b"
      },
      "execution_count": 7,
      "outputs": [
        {
          "output_type": "display_data",
          "data": {
            "text/plain": [
              "<IPython.core.display.HTML object>"
            ],
            "text/html": [
              "\n",
              "     <input type=\"file\" id=\"files-62a861e9-d4a3-4101-b0fb-51bfeb69e2d9\" name=\"files[]\" multiple disabled\n",
              "        style=\"border:none\" />\n",
              "     <output id=\"result-62a861e9-d4a3-4101-b0fb-51bfeb69e2d9\">\n",
              "      Upload widget is only available when the cell has been executed in the\n",
              "      current browser session. Please rerun this cell to enable.\n",
              "      </output>\n",
              "      <script>// Copyright 2017 Google LLC\n",
              "//\n",
              "// Licensed under the Apache License, Version 2.0 (the \"License\");\n",
              "// you may not use this file except in compliance with the License.\n",
              "// You may obtain a copy of the License at\n",
              "//\n",
              "//      http://www.apache.org/licenses/LICENSE-2.0\n",
              "//\n",
              "// Unless required by applicable law or agreed to in writing, software\n",
              "// distributed under the License is distributed on an \"AS IS\" BASIS,\n",
              "// WITHOUT WARRANTIES OR CONDITIONS OF ANY KIND, either express or implied.\n",
              "// See the License for the specific language governing permissions and\n",
              "// limitations under the License.\n",
              "\n",
              "/**\n",
              " * @fileoverview Helpers for google.colab Python module.\n",
              " */\n",
              "(function(scope) {\n",
              "function span(text, styleAttributes = {}) {\n",
              "  const element = document.createElement('span');\n",
              "  element.textContent = text;\n",
              "  for (const key of Object.keys(styleAttributes)) {\n",
              "    element.style[key] = styleAttributes[key];\n",
              "  }\n",
              "  return element;\n",
              "}\n",
              "\n",
              "// Max number of bytes which will be uploaded at a time.\n",
              "const MAX_PAYLOAD_SIZE = 100 * 1024;\n",
              "\n",
              "function _uploadFiles(inputId, outputId) {\n",
              "  const steps = uploadFilesStep(inputId, outputId);\n",
              "  const outputElement = document.getElementById(outputId);\n",
              "  // Cache steps on the outputElement to make it available for the next call\n",
              "  // to uploadFilesContinue from Python.\n",
              "  outputElement.steps = steps;\n",
              "\n",
              "  return _uploadFilesContinue(outputId);\n",
              "}\n",
              "\n",
              "// This is roughly an async generator (not supported in the browser yet),\n",
              "// where there are multiple asynchronous steps and the Python side is going\n",
              "// to poll for completion of each step.\n",
              "// This uses a Promise to block the python side on completion of each step,\n",
              "// then passes the result of the previous step as the input to the next step.\n",
              "function _uploadFilesContinue(outputId) {\n",
              "  const outputElement = document.getElementById(outputId);\n",
              "  const steps = outputElement.steps;\n",
              "\n",
              "  const next = steps.next(outputElement.lastPromiseValue);\n",
              "  return Promise.resolve(next.value.promise).then((value) => {\n",
              "    // Cache the last promise value to make it available to the next\n",
              "    // step of the generator.\n",
              "    outputElement.lastPromiseValue = value;\n",
              "    return next.value.response;\n",
              "  });\n",
              "}\n",
              "\n",
              "/**\n",
              " * Generator function which is called between each async step of the upload\n",
              " * process.\n",
              " * @param {string} inputId Element ID of the input file picker element.\n",
              " * @param {string} outputId Element ID of the output display.\n",
              " * @return {!Iterable<!Object>} Iterable of next steps.\n",
              " */\n",
              "function* uploadFilesStep(inputId, outputId) {\n",
              "  const inputElement = document.getElementById(inputId);\n",
              "  inputElement.disabled = false;\n",
              "\n",
              "  const outputElement = document.getElementById(outputId);\n",
              "  outputElement.innerHTML = '';\n",
              "\n",
              "  const pickedPromise = new Promise((resolve) => {\n",
              "    inputElement.addEventListener('change', (e) => {\n",
              "      resolve(e.target.files);\n",
              "    });\n",
              "  });\n",
              "\n",
              "  const cancel = document.createElement('button');\n",
              "  inputElement.parentElement.appendChild(cancel);\n",
              "  cancel.textContent = 'Cancel upload';\n",
              "  const cancelPromise = new Promise((resolve) => {\n",
              "    cancel.onclick = () => {\n",
              "      resolve(null);\n",
              "    };\n",
              "  });\n",
              "\n",
              "  // Wait for the user to pick the files.\n",
              "  const files = yield {\n",
              "    promise: Promise.race([pickedPromise, cancelPromise]),\n",
              "    response: {\n",
              "      action: 'starting',\n",
              "    }\n",
              "  };\n",
              "\n",
              "  cancel.remove();\n",
              "\n",
              "  // Disable the input element since further picks are not allowed.\n",
              "  inputElement.disabled = true;\n",
              "\n",
              "  if (!files) {\n",
              "    return {\n",
              "      response: {\n",
              "        action: 'complete',\n",
              "      }\n",
              "    };\n",
              "  }\n",
              "\n",
              "  for (const file of files) {\n",
              "    const li = document.createElement('li');\n",
              "    li.append(span(file.name, {fontWeight: 'bold'}));\n",
              "    li.append(span(\n",
              "        `(${file.type || 'n/a'}) - ${file.size} bytes, ` +\n",
              "        `last modified: ${\n",
              "            file.lastModifiedDate ? file.lastModifiedDate.toLocaleDateString() :\n",
              "                                    'n/a'} - `));\n",
              "    const percent = span('0% done');\n",
              "    li.appendChild(percent);\n",
              "\n",
              "    outputElement.appendChild(li);\n",
              "\n",
              "    const fileDataPromise = new Promise((resolve) => {\n",
              "      const reader = new FileReader();\n",
              "      reader.onload = (e) => {\n",
              "        resolve(e.target.result);\n",
              "      };\n",
              "      reader.readAsArrayBuffer(file);\n",
              "    });\n",
              "    // Wait for the data to be ready.\n",
              "    let fileData = yield {\n",
              "      promise: fileDataPromise,\n",
              "      response: {\n",
              "        action: 'continue',\n",
              "      }\n",
              "    };\n",
              "\n",
              "    // Use a chunked sending to avoid message size limits. See b/62115660.\n",
              "    let position = 0;\n",
              "    do {\n",
              "      const length = Math.min(fileData.byteLength - position, MAX_PAYLOAD_SIZE);\n",
              "      const chunk = new Uint8Array(fileData, position, length);\n",
              "      position += length;\n",
              "\n",
              "      const base64 = btoa(String.fromCharCode.apply(null, chunk));\n",
              "      yield {\n",
              "        response: {\n",
              "          action: 'append',\n",
              "          file: file.name,\n",
              "          data: base64,\n",
              "        },\n",
              "      };\n",
              "\n",
              "      let percentDone = fileData.byteLength === 0 ?\n",
              "          100 :\n",
              "          Math.round((position / fileData.byteLength) * 100);\n",
              "      percent.textContent = `${percentDone}% done`;\n",
              "\n",
              "    } while (position < fileData.byteLength);\n",
              "  }\n",
              "\n",
              "  // All done.\n",
              "  yield {\n",
              "    response: {\n",
              "      action: 'complete',\n",
              "    }\n",
              "  };\n",
              "}\n",
              "\n",
              "scope.google = scope.google || {};\n",
              "scope.google.colab = scope.google.colab || {};\n",
              "scope.google.colab._files = {\n",
              "  _uploadFiles,\n",
              "  _uploadFilesContinue,\n",
              "};\n",
              "})(self);\n",
              "</script> "
            ]
          },
          "metadata": {}
        },
        {
          "output_type": "stream",
          "name": "stdout",
          "text": [
            "Saving Simulink_ДПТ_10В.csv to Simulink_ДПТ_10В.csv\n"
          ]
        }
      ]
    },
    {
      "cell_type": "code",
      "source": [
        "df = pd.read_csv('Simulink_ДПТ_10В.csv',delimiter=';')"
      ],
      "metadata": {
        "id": "-uVIjjawS2GN",
        "colab": {
          "base_uri": "https://localhost:8080/"
        },
        "outputId": "ca5a40e5-e471-4046-af35-7503a63f364e"
      },
      "execution_count": 8,
      "outputs": [
        {
          "output_type": "stream",
          "name": "stderr",
          "text": [
            "/usr/local/lib/python3.8/dist-packages/IPython/core/interactiveshell.py:3326: DtypeWarning: Columns (1,2,3,4,5,6,7,8,9,10,11,12,13,14,15) have mixed types.Specify dtype option on import or set low_memory=False.\n",
            "  exec(code_obj, self.user_global_ns, self.user_ns)\n"
          ]
        }
      ]
    },
    {
      "cell_type": "code",
      "source": [
        "df"
      ],
      "metadata": {
        "id": "PDKJX3TFTXQq",
        "colab": {
          "base_uri": "https://localhost:8080/",
          "height": 488
        },
        "outputId": "2fd6bfd1-23f9-43eb-d468-75f727315c60"
      },
      "execution_count": 9,
      "outputs": [
        {
          "output_type": "execute_result",
          "data": {
            "text/plain": [
              "                    T            Uдс(вход2)            Unnamed: 2  \\\n",
              "0                 NaN                    U1               U2_diff   \n",
              "1        0.000000e+00                     0                     0   \n",
              "2        1.169967e-66  1.16996669923822e-66  3.15544362088405e-30   \n",
              "3        1.843200e-21  1.84320000000000e-21  1.60000000000000e-10   \n",
              "4        3.981307e-19  3.98130696143209e-19  9.60000000000000e-10   \n",
              "...               ...                   ...                   ...   \n",
              "1000028  9.999999e+00              9.999999              0.999997   \n",
              "1000029  9.999999e+00              9.999999              0.999998   \n",
              "1000030  9.999999e+00              9.999999              0.999999   \n",
              "1000031  9.999999e+00              9.999999                   1.0   \n",
              "1000032  9.999999e+00              9.999999                   1.0   \n",
              "\n",
              "                    Unnamed: 3             Uдт(вход3)            Unnamed: 5  \\\n",
              "0                       U3_int                     U4               U5_diff   \n",
              "1                            0                      0                     0   \n",
              "2        -1.14702617601537e-70  -1.14702617601537e-70  2.36658271566097e-22   \n",
              "3         5.81611368201348e-51   5.81611368201348e-51    0.0119999934720000   \n",
              "4         4.93977239027873e-29   4.93977239027873e-29    0.0839997192963500   \n",
              "...                        ...                    ...                   ...   \n",
              "1000028               9.995423               9.995423              0.000002   \n",
              "1000029               9.995433               9.995433              0.000002   \n",
              "1000030               9.995443               9.995443              0.000002   \n",
              "1000031               9.995453               9.995453              0.000002   \n",
              "1000032               9.995456               9.995456              0.000002   \n",
              "\n",
              "                   Unnamed: 6            Uрт(выход)        Unnamed: 8  \\\n",
              "0                      U6_int                    U7           U8_ditt   \n",
              "1                           0                     0                 0   \n",
              "2        2.36658271566097e-22  6.49981499390246e-68                 0   \n",
              "3          0.0119999934720000  1.02400000000000e-22  198.988003852207   \n",
              "4          0.0839997192963500  2.21183720079561e-20  198.915999227722   \n",
              "...                       ...                   ...               ...   \n",
              "1000028              0.000002              0.555556         -0.000001   \n",
              "1000029              0.000002              0.555556         -0.000001   \n",
              "1000030              0.000002              0.555556         -0.000001   \n",
              "1000031              0.000002              0.555556         -0.000001   \n",
              "1000032              0.000002              0.555556              -0.0   \n",
              "\n",
              "                   Unnamed: 9                  Iобщ           Unnamed: 11  \\\n",
              "0                      U9_int                   U10              U11_diff   \n",
              "1                           0                     0                     0   \n",
              "2        3.15544362088405e-29  3.15544362088405e-29  1.49352366668537e-51   \n",
              "3        1.60000000254710e-09  1.60000000254710e-09  3.83999791104000e-12   \n",
              "4        9.60000009167708e-09  9.60000009167708e-09  1.38239548785200e-10   \n",
              "...                       ...                   ...                   ...   \n",
              "1000028              6.815096              6.815096                  -0.0   \n",
              "1000029              6.815103              6.815103                  -0.0   \n",
              "1000030              6.815109              6.815109                  -0.0   \n",
              "1000031              6.815116              6.815116                  -0.0   \n",
              "1000032              6.815118              6.815118                  -0.0   \n",
              "\n",
              "                  Unnamed: 12                    wn           Unnamed: 14  \\\n",
              "0                     U12_int                   U13              U14_diff   \n",
              "1                           0                     0                     0   \n",
              "2        4.73316543132195e-22  1.29996299878049e-67  3.89988899746073e-65   \n",
              "3          0.0239999869440000  2.04800000000000e-22  6.14400000000000e-20   \n",
              "4           0.167999438592700  4.42367440159121e-20  1.32710232047736e-17   \n",
              "...                       ...                   ...                   ...   \n",
              "1000028              0.000004              1.111111            333.333314   \n",
              "1000029              0.000004              1.111111            333.333314   \n",
              "1000030              0.000004              1.111111            333.333314   \n",
              "1000031              0.000004              1.111111            333.333314   \n",
              "1000032              0.000004              1.111111            333.333314   \n",
              "\n",
              "                  Unnamed: 15  \n",
              "0                     U15_int  \n",
              "1                           0  \n",
              "2        1.23592415711364e-35  \n",
              "3        3.84000000000000e-10  \n",
              "4        1.65119790059671e-08  \n",
              "...                       ...  \n",
              "1000028             -0.000053  \n",
              "1000029             -0.000053  \n",
              "1000030             -0.000053  \n",
              "1000031             -0.000053  \n",
              "1000032             -0.000053  \n",
              "\n",
              "[1000033 rows x 16 columns]"
            ],
            "text/html": [
              "\n",
              "  <div id=\"df-1fccc31d-eb58-4160-a6bc-d67cd3bfa620\">\n",
              "    <div class=\"colab-df-container\">\n",
              "      <div>\n",
              "<style scoped>\n",
              "    .dataframe tbody tr th:only-of-type {\n",
              "        vertical-align: middle;\n",
              "    }\n",
              "\n",
              "    .dataframe tbody tr th {\n",
              "        vertical-align: top;\n",
              "    }\n",
              "\n",
              "    .dataframe thead th {\n",
              "        text-align: right;\n",
              "    }\n",
              "</style>\n",
              "<table border=\"1\" class=\"dataframe\">\n",
              "  <thead>\n",
              "    <tr style=\"text-align: right;\">\n",
              "      <th></th>\n",
              "      <th>T</th>\n",
              "      <th>Uдс(вход2)</th>\n",
              "      <th>Unnamed: 2</th>\n",
              "      <th>Unnamed: 3</th>\n",
              "      <th>Uдт(вход3)</th>\n",
              "      <th>Unnamed: 5</th>\n",
              "      <th>Unnamed: 6</th>\n",
              "      <th>Uрт(выход)</th>\n",
              "      <th>Unnamed: 8</th>\n",
              "      <th>Unnamed: 9</th>\n",
              "      <th>Iобщ</th>\n",
              "      <th>Unnamed: 11</th>\n",
              "      <th>Unnamed: 12</th>\n",
              "      <th>wn</th>\n",
              "      <th>Unnamed: 14</th>\n",
              "      <th>Unnamed: 15</th>\n",
              "    </tr>\n",
              "  </thead>\n",
              "  <tbody>\n",
              "    <tr>\n",
              "      <th>0</th>\n",
              "      <td>NaN</td>\n",
              "      <td>U1</td>\n",
              "      <td>U2_diff</td>\n",
              "      <td>U3_int</td>\n",
              "      <td>U4</td>\n",
              "      <td>U5_diff</td>\n",
              "      <td>U6_int</td>\n",
              "      <td>U7</td>\n",
              "      <td>U8_ditt</td>\n",
              "      <td>U9_int</td>\n",
              "      <td>U10</td>\n",
              "      <td>U11_diff</td>\n",
              "      <td>U12_int</td>\n",
              "      <td>U13</td>\n",
              "      <td>U14_diff</td>\n",
              "      <td>U15_int</td>\n",
              "    </tr>\n",
              "    <tr>\n",
              "      <th>1</th>\n",
              "      <td>0.000000e+00</td>\n",
              "      <td>0</td>\n",
              "      <td>0</td>\n",
              "      <td>0</td>\n",
              "      <td>0</td>\n",
              "      <td>0</td>\n",
              "      <td>0</td>\n",
              "      <td>0</td>\n",
              "      <td>0</td>\n",
              "      <td>0</td>\n",
              "      <td>0</td>\n",
              "      <td>0</td>\n",
              "      <td>0</td>\n",
              "      <td>0</td>\n",
              "      <td>0</td>\n",
              "      <td>0</td>\n",
              "    </tr>\n",
              "    <tr>\n",
              "      <th>2</th>\n",
              "      <td>1.169967e-66</td>\n",
              "      <td>1.16996669923822e-66</td>\n",
              "      <td>3.15544362088405e-30</td>\n",
              "      <td>-1.14702617601537e-70</td>\n",
              "      <td>-1.14702617601537e-70</td>\n",
              "      <td>2.36658271566097e-22</td>\n",
              "      <td>2.36658271566097e-22</td>\n",
              "      <td>6.49981499390246e-68</td>\n",
              "      <td>0</td>\n",
              "      <td>3.15544362088405e-29</td>\n",
              "      <td>3.15544362088405e-29</td>\n",
              "      <td>1.49352366668537e-51</td>\n",
              "      <td>4.73316543132195e-22</td>\n",
              "      <td>1.29996299878049e-67</td>\n",
              "      <td>3.89988899746073e-65</td>\n",
              "      <td>1.23592415711364e-35</td>\n",
              "    </tr>\n",
              "    <tr>\n",
              "      <th>3</th>\n",
              "      <td>1.843200e-21</td>\n",
              "      <td>1.84320000000000e-21</td>\n",
              "      <td>1.60000000000000e-10</td>\n",
              "      <td>5.81611368201348e-51</td>\n",
              "      <td>5.81611368201348e-51</td>\n",
              "      <td>0.0119999934720000</td>\n",
              "      <td>0.0119999934720000</td>\n",
              "      <td>1.02400000000000e-22</td>\n",
              "      <td>198.988003852207</td>\n",
              "      <td>1.60000000254710e-09</td>\n",
              "      <td>1.60000000254710e-09</td>\n",
              "      <td>3.83999791104000e-12</td>\n",
              "      <td>0.0239999869440000</td>\n",
              "      <td>2.04800000000000e-22</td>\n",
              "      <td>6.14400000000000e-20</td>\n",
              "      <td>3.84000000000000e-10</td>\n",
              "    </tr>\n",
              "    <tr>\n",
              "      <th>4</th>\n",
              "      <td>3.981307e-19</td>\n",
              "      <td>3.98130696143209e-19</td>\n",
              "      <td>9.60000000000000e-10</td>\n",
              "      <td>4.93977239027873e-29</td>\n",
              "      <td>4.93977239027873e-29</td>\n",
              "      <td>0.0839997192963500</td>\n",
              "      <td>0.0839997192963500</td>\n",
              "      <td>2.21183720079561e-20</td>\n",
              "      <td>198.915999227722</td>\n",
              "      <td>9.60000009167708e-09</td>\n",
              "      <td>9.60000009167708e-09</td>\n",
              "      <td>1.38239548785200e-10</td>\n",
              "      <td>0.167999438592700</td>\n",
              "      <td>4.42367440159121e-20</td>\n",
              "      <td>1.32710232047736e-17</td>\n",
              "      <td>1.65119790059671e-08</td>\n",
              "    </tr>\n",
              "    <tr>\n",
              "      <th>...</th>\n",
              "      <td>...</td>\n",
              "      <td>...</td>\n",
              "      <td>...</td>\n",
              "      <td>...</td>\n",
              "      <td>...</td>\n",
              "      <td>...</td>\n",
              "      <td>...</td>\n",
              "      <td>...</td>\n",
              "      <td>...</td>\n",
              "      <td>...</td>\n",
              "      <td>...</td>\n",
              "      <td>...</td>\n",
              "      <td>...</td>\n",
              "      <td>...</td>\n",
              "      <td>...</td>\n",
              "      <td>...</td>\n",
              "    </tr>\n",
              "    <tr>\n",
              "      <th>1000028</th>\n",
              "      <td>9.999999e+00</td>\n",
              "      <td>9.999999</td>\n",
              "      <td>0.999997</td>\n",
              "      <td>9.995423</td>\n",
              "      <td>9.995423</td>\n",
              "      <td>0.000002</td>\n",
              "      <td>0.000002</td>\n",
              "      <td>0.555556</td>\n",
              "      <td>-0.000001</td>\n",
              "      <td>6.815096</td>\n",
              "      <td>6.815096</td>\n",
              "      <td>-0.0</td>\n",
              "      <td>0.000004</td>\n",
              "      <td>1.111111</td>\n",
              "      <td>333.333314</td>\n",
              "      <td>-0.000053</td>\n",
              "    </tr>\n",
              "    <tr>\n",
              "      <th>1000029</th>\n",
              "      <td>9.999999e+00</td>\n",
              "      <td>9.999999</td>\n",
              "      <td>0.999998</td>\n",
              "      <td>9.995433</td>\n",
              "      <td>9.995433</td>\n",
              "      <td>0.000002</td>\n",
              "      <td>0.000002</td>\n",
              "      <td>0.555556</td>\n",
              "      <td>-0.000001</td>\n",
              "      <td>6.815103</td>\n",
              "      <td>6.815103</td>\n",
              "      <td>-0.0</td>\n",
              "      <td>0.000004</td>\n",
              "      <td>1.111111</td>\n",
              "      <td>333.333314</td>\n",
              "      <td>-0.000053</td>\n",
              "    </tr>\n",
              "    <tr>\n",
              "      <th>1000030</th>\n",
              "      <td>9.999999e+00</td>\n",
              "      <td>9.999999</td>\n",
              "      <td>0.999999</td>\n",
              "      <td>9.995443</td>\n",
              "      <td>9.995443</td>\n",
              "      <td>0.000002</td>\n",
              "      <td>0.000002</td>\n",
              "      <td>0.555556</td>\n",
              "      <td>-0.000001</td>\n",
              "      <td>6.815109</td>\n",
              "      <td>6.815109</td>\n",
              "      <td>-0.0</td>\n",
              "      <td>0.000004</td>\n",
              "      <td>1.111111</td>\n",
              "      <td>333.333314</td>\n",
              "      <td>-0.000053</td>\n",
              "    </tr>\n",
              "    <tr>\n",
              "      <th>1000031</th>\n",
              "      <td>9.999999e+00</td>\n",
              "      <td>9.999999</td>\n",
              "      <td>1.0</td>\n",
              "      <td>9.995453</td>\n",
              "      <td>9.995453</td>\n",
              "      <td>0.000002</td>\n",
              "      <td>0.000002</td>\n",
              "      <td>0.555556</td>\n",
              "      <td>-0.000001</td>\n",
              "      <td>6.815116</td>\n",
              "      <td>6.815116</td>\n",
              "      <td>-0.0</td>\n",
              "      <td>0.000004</td>\n",
              "      <td>1.111111</td>\n",
              "      <td>333.333314</td>\n",
              "      <td>-0.000053</td>\n",
              "    </tr>\n",
              "    <tr>\n",
              "      <th>1000032</th>\n",
              "      <td>9.999999e+00</td>\n",
              "      <td>9.999999</td>\n",
              "      <td>1.0</td>\n",
              "      <td>9.995456</td>\n",
              "      <td>9.995456</td>\n",
              "      <td>0.000002</td>\n",
              "      <td>0.000002</td>\n",
              "      <td>0.555556</td>\n",
              "      <td>-0.0</td>\n",
              "      <td>6.815118</td>\n",
              "      <td>6.815118</td>\n",
              "      <td>-0.0</td>\n",
              "      <td>0.000004</td>\n",
              "      <td>1.111111</td>\n",
              "      <td>333.333314</td>\n",
              "      <td>-0.000053</td>\n",
              "    </tr>\n",
              "  </tbody>\n",
              "</table>\n",
              "<p>1000033 rows × 16 columns</p>\n",
              "</div>\n",
              "      <button class=\"colab-df-convert\" onclick=\"convertToInteractive('df-1fccc31d-eb58-4160-a6bc-d67cd3bfa620')\"\n",
              "              title=\"Convert this dataframe to an interactive table.\"\n",
              "              style=\"display:none;\">\n",
              "        \n",
              "  <svg xmlns=\"http://www.w3.org/2000/svg\" height=\"24px\"viewBox=\"0 0 24 24\"\n",
              "       width=\"24px\">\n",
              "    <path d=\"M0 0h24v24H0V0z\" fill=\"none\"/>\n",
              "    <path d=\"M18.56 5.44l.94 2.06.94-2.06 2.06-.94-2.06-.94-.94-2.06-.94 2.06-2.06.94zm-11 1L8.5 8.5l.94-2.06 2.06-.94-2.06-.94L8.5 2.5l-.94 2.06-2.06.94zm10 10l.94 2.06.94-2.06 2.06-.94-2.06-.94-.94-2.06-.94 2.06-2.06.94z\"/><path d=\"M17.41 7.96l-1.37-1.37c-.4-.4-.92-.59-1.43-.59-.52 0-1.04.2-1.43.59L10.3 9.45l-7.72 7.72c-.78.78-.78 2.05 0 2.83L4 21.41c.39.39.9.59 1.41.59.51 0 1.02-.2 1.41-.59l7.78-7.78 2.81-2.81c.8-.78.8-2.07 0-2.86zM5.41 20L4 18.59l7.72-7.72 1.47 1.35L5.41 20z\"/>\n",
              "  </svg>\n",
              "      </button>\n",
              "      \n",
              "  <style>\n",
              "    .colab-df-container {\n",
              "      display:flex;\n",
              "      flex-wrap:wrap;\n",
              "      gap: 12px;\n",
              "    }\n",
              "\n",
              "    .colab-df-convert {\n",
              "      background-color: #E8F0FE;\n",
              "      border: none;\n",
              "      border-radius: 50%;\n",
              "      cursor: pointer;\n",
              "      display: none;\n",
              "      fill: #1967D2;\n",
              "      height: 32px;\n",
              "      padding: 0 0 0 0;\n",
              "      width: 32px;\n",
              "    }\n",
              "\n",
              "    .colab-df-convert:hover {\n",
              "      background-color: #E2EBFA;\n",
              "      box-shadow: 0px 1px 2px rgba(60, 64, 67, 0.3), 0px 1px 3px 1px rgba(60, 64, 67, 0.15);\n",
              "      fill: #174EA6;\n",
              "    }\n",
              "\n",
              "    [theme=dark] .colab-df-convert {\n",
              "      background-color: #3B4455;\n",
              "      fill: #D2E3FC;\n",
              "    }\n",
              "\n",
              "    [theme=dark] .colab-df-convert:hover {\n",
              "      background-color: #434B5C;\n",
              "      box-shadow: 0px 1px 3px 1px rgba(0, 0, 0, 0.15);\n",
              "      filter: drop-shadow(0px 1px 2px rgba(0, 0, 0, 0.3));\n",
              "      fill: #FFFFFF;\n",
              "    }\n",
              "  </style>\n",
              "\n",
              "      <script>\n",
              "        const buttonEl =\n",
              "          document.querySelector('#df-1fccc31d-eb58-4160-a6bc-d67cd3bfa620 button.colab-df-convert');\n",
              "        buttonEl.style.display =\n",
              "          google.colab.kernel.accessAllowed ? 'block' : 'none';\n",
              "\n",
              "        async function convertToInteractive(key) {\n",
              "          const element = document.querySelector('#df-1fccc31d-eb58-4160-a6bc-d67cd3bfa620');\n",
              "          const dataTable =\n",
              "            await google.colab.kernel.invokeFunction('convertToInteractive',\n",
              "                                                     [key], {});\n",
              "          if (!dataTable) return;\n",
              "\n",
              "          const docLinkHtml = 'Like what you see? Visit the ' +\n",
              "            '<a target=\"_blank\" href=https://colab.research.google.com/notebooks/data_table.ipynb>data table notebook</a>'\n",
              "            + ' to learn more about interactive tables.';\n",
              "          element.innerHTML = '';\n",
              "          dataTable['output_type'] = 'display_data';\n",
              "          await google.colab.output.renderOutput(dataTable, element);\n",
              "          const docLink = document.createElement('div');\n",
              "          docLink.innerHTML = docLinkHtml;\n",
              "          element.appendChild(docLink);\n",
              "        }\n",
              "      </script>\n",
              "    </div>\n",
              "  </div>\n",
              "  "
            ]
          },
          "metadata": {},
          "execution_count": 9
        }
      ]
    },
    {
      "cell_type": "code",
      "source": [
        "df=df.drop(index=0)"
      ],
      "metadata": {
        "id": "Cc4N_fi_8wr-"
      },
      "execution_count": 10,
      "outputs": []
    },
    {
      "cell_type": "code",
      "source": [
        "df"
      ],
      "metadata": {
        "colab": {
          "base_uri": "https://localhost:8080/",
          "height": 488
        },
        "id": "Pua2lK2I8ylI",
        "outputId": "abb48d20-b56c-4b4d-e9dc-b7b339279bec"
      },
      "execution_count": 11,
      "outputs": [
        {
          "output_type": "execute_result",
          "data": {
            "text/plain": [
              "                    T            Uдс(вход2)            Unnamed: 2  \\\n",
              "1        0.000000e+00                     0                     0   \n",
              "2        1.169967e-66  1.16996669923822e-66  3.15544362088405e-30   \n",
              "3        1.843200e-21  1.84320000000000e-21  1.60000000000000e-10   \n",
              "4        3.981307e-19  3.98130696143209e-19  9.60000000000000e-10   \n",
              "5        5.491037e-17  5.49103709210333e-17  4.96000000000000e-09   \n",
              "...               ...                   ...                   ...   \n",
              "1000028  9.999999e+00              9.999999              0.999997   \n",
              "1000029  9.999999e+00              9.999999              0.999998   \n",
              "1000030  9.999999e+00              9.999999              0.999999   \n",
              "1000031  9.999999e+00              9.999999                   1.0   \n",
              "1000032  9.999999e+00              9.999999                   1.0   \n",
              "\n",
              "                    Unnamed: 3             Uдт(вход3)            Unnamed: 5  \\\n",
              "1                            0                      0                     0   \n",
              "2        -1.14702617601537e-70  -1.14702617601537e-70  2.36658271566097e-22   \n",
              "3         5.81611368201348e-51   5.81611368201348e-51    0.0119999934720000   \n",
              "4         4.93977239027873e-29   4.93977239027873e-29    0.0839997192963500   \n",
              "5         3.92430326568353e-26   3.92430326568353e-26     0.443992277431536   \n",
              "...                        ...                    ...                   ...   \n",
              "1000028               9.995423               9.995423              0.000002   \n",
              "1000029               9.995433               9.995433              0.000002   \n",
              "1000030               9.995443               9.995443              0.000002   \n",
              "1000031               9.995453               9.995453              0.000002   \n",
              "1000032               9.995456               9.995456              0.000002   \n",
              "\n",
              "                   Unnamed: 6            Uрт(выход)        Unnamed: 8  \\\n",
              "1                           0                     0                 0   \n",
              "2        2.36658271566097e-22  6.49981499390246e-68                 0   \n",
              "3          0.0119999934720000  1.02400000000000e-22  198.988003852207   \n",
              "4          0.0839997192963500  2.21183720079561e-20  198.915999227722   \n",
              "5           0.443992277431536  3.05057616227963e-18  198.556007635631   \n",
              "...                       ...                   ...               ...   \n",
              "1000028              0.000002              0.555556         -0.000001   \n",
              "1000029              0.000002              0.555556         -0.000001   \n",
              "1000030              0.000002              0.555556         -0.000001   \n",
              "1000031              0.000002              0.555556         -0.000001   \n",
              "1000032              0.000002              0.555556              -0.0   \n",
              "\n",
              "                   Unnamed: 9                  Iобщ           Unnamed: 11  \\\n",
              "1                           0                     0                     0   \n",
              "2        3.15544362088405e-29  3.15544362088405e-29  1.49352366668537e-51   \n",
              "3        1.60000000254710e-09  1.60000000254710e-09  3.83999791104000e-12   \n",
              "4        9.60000009167708e-09  9.60000009167708e-09  1.38239548785200e-10   \n",
              "5        4.96000024448086e-08  4.96000024448086e-08  3.69017776823749e-09   \n",
              "...                       ...                   ...                   ...   \n",
              "1000028              6.815096              6.815096                  -0.0   \n",
              "1000029              6.815103              6.815103                  -0.0   \n",
              "1000030              6.815109              6.815109                  -0.0   \n",
              "1000031              6.815116              6.815116                  -0.0   \n",
              "1000032              6.815118              6.815118                  -0.0   \n",
              "\n",
              "                  Unnamed: 12                    wn           Unnamed: 14  \\\n",
              "1                           0                     0                     0   \n",
              "2        4.73316543132195e-22  1.29996299878049e-67  3.89988899746073e-65   \n",
              "3          0.0239999869440000  2.04800000000000e-22  6.14400000000000e-20   \n",
              "4           0.167999438592700  4.42367440159121e-20  1.32710232047736e-17   \n",
              "5           0.887984554863073  6.10115232455925e-18  1.83034569736778e-15   \n",
              "...                       ...                   ...                   ...   \n",
              "1000028              0.000004              1.111111            333.333314   \n",
              "1000029              0.000004              1.111111            333.333314   \n",
              "1000030              0.000004              1.111111            333.333314   \n",
              "1000031              0.000004              1.111111            333.333314   \n",
              "1000032              0.000004              1.111111            333.333314   \n",
              "\n",
              "                  Unnamed: 15  \n",
              "1                           0  \n",
              "2        1.23592415711364e-35  \n",
              "3        3.84000000000000e-10  \n",
              "4        1.65119790059671e-08  \n",
              "5        4.54268668540751e-07  \n",
              "...                       ...  \n",
              "1000028             -0.000053  \n",
              "1000029             -0.000053  \n",
              "1000030             -0.000053  \n",
              "1000031             -0.000053  \n",
              "1000032             -0.000053  \n",
              "\n",
              "[1000032 rows x 16 columns]"
            ],
            "text/html": [
              "\n",
              "  <div id=\"df-b6b0d82f-1a37-436e-94e5-506b0ae420df\">\n",
              "    <div class=\"colab-df-container\">\n",
              "      <div>\n",
              "<style scoped>\n",
              "    .dataframe tbody tr th:only-of-type {\n",
              "        vertical-align: middle;\n",
              "    }\n",
              "\n",
              "    .dataframe tbody tr th {\n",
              "        vertical-align: top;\n",
              "    }\n",
              "\n",
              "    .dataframe thead th {\n",
              "        text-align: right;\n",
              "    }\n",
              "</style>\n",
              "<table border=\"1\" class=\"dataframe\">\n",
              "  <thead>\n",
              "    <tr style=\"text-align: right;\">\n",
              "      <th></th>\n",
              "      <th>T</th>\n",
              "      <th>Uдс(вход2)</th>\n",
              "      <th>Unnamed: 2</th>\n",
              "      <th>Unnamed: 3</th>\n",
              "      <th>Uдт(вход3)</th>\n",
              "      <th>Unnamed: 5</th>\n",
              "      <th>Unnamed: 6</th>\n",
              "      <th>Uрт(выход)</th>\n",
              "      <th>Unnamed: 8</th>\n",
              "      <th>Unnamed: 9</th>\n",
              "      <th>Iобщ</th>\n",
              "      <th>Unnamed: 11</th>\n",
              "      <th>Unnamed: 12</th>\n",
              "      <th>wn</th>\n",
              "      <th>Unnamed: 14</th>\n",
              "      <th>Unnamed: 15</th>\n",
              "    </tr>\n",
              "  </thead>\n",
              "  <tbody>\n",
              "    <tr>\n",
              "      <th>1</th>\n",
              "      <td>0.000000e+00</td>\n",
              "      <td>0</td>\n",
              "      <td>0</td>\n",
              "      <td>0</td>\n",
              "      <td>0</td>\n",
              "      <td>0</td>\n",
              "      <td>0</td>\n",
              "      <td>0</td>\n",
              "      <td>0</td>\n",
              "      <td>0</td>\n",
              "      <td>0</td>\n",
              "      <td>0</td>\n",
              "      <td>0</td>\n",
              "      <td>0</td>\n",
              "      <td>0</td>\n",
              "      <td>0</td>\n",
              "    </tr>\n",
              "    <tr>\n",
              "      <th>2</th>\n",
              "      <td>1.169967e-66</td>\n",
              "      <td>1.16996669923822e-66</td>\n",
              "      <td>3.15544362088405e-30</td>\n",
              "      <td>-1.14702617601537e-70</td>\n",
              "      <td>-1.14702617601537e-70</td>\n",
              "      <td>2.36658271566097e-22</td>\n",
              "      <td>2.36658271566097e-22</td>\n",
              "      <td>6.49981499390246e-68</td>\n",
              "      <td>0</td>\n",
              "      <td>3.15544362088405e-29</td>\n",
              "      <td>3.15544362088405e-29</td>\n",
              "      <td>1.49352366668537e-51</td>\n",
              "      <td>4.73316543132195e-22</td>\n",
              "      <td>1.29996299878049e-67</td>\n",
              "      <td>3.89988899746073e-65</td>\n",
              "      <td>1.23592415711364e-35</td>\n",
              "    </tr>\n",
              "    <tr>\n",
              "      <th>3</th>\n",
              "      <td>1.843200e-21</td>\n",
              "      <td>1.84320000000000e-21</td>\n",
              "      <td>1.60000000000000e-10</td>\n",
              "      <td>5.81611368201348e-51</td>\n",
              "      <td>5.81611368201348e-51</td>\n",
              "      <td>0.0119999934720000</td>\n",
              "      <td>0.0119999934720000</td>\n",
              "      <td>1.02400000000000e-22</td>\n",
              "      <td>198.988003852207</td>\n",
              "      <td>1.60000000254710e-09</td>\n",
              "      <td>1.60000000254710e-09</td>\n",
              "      <td>3.83999791104000e-12</td>\n",
              "      <td>0.0239999869440000</td>\n",
              "      <td>2.04800000000000e-22</td>\n",
              "      <td>6.14400000000000e-20</td>\n",
              "      <td>3.84000000000000e-10</td>\n",
              "    </tr>\n",
              "    <tr>\n",
              "      <th>4</th>\n",
              "      <td>3.981307e-19</td>\n",
              "      <td>3.98130696143209e-19</td>\n",
              "      <td>9.60000000000000e-10</td>\n",
              "      <td>4.93977239027873e-29</td>\n",
              "      <td>4.93977239027873e-29</td>\n",
              "      <td>0.0839997192963500</td>\n",
              "      <td>0.0839997192963500</td>\n",
              "      <td>2.21183720079561e-20</td>\n",
              "      <td>198.915999227722</td>\n",
              "      <td>9.60000009167708e-09</td>\n",
              "      <td>9.60000009167708e-09</td>\n",
              "      <td>1.38239548785200e-10</td>\n",
              "      <td>0.167999438592700</td>\n",
              "      <td>4.42367440159121e-20</td>\n",
              "      <td>1.32710232047736e-17</td>\n",
              "      <td>1.65119790059671e-08</td>\n",
              "    </tr>\n",
              "    <tr>\n",
              "      <th>5</th>\n",
              "      <td>5.491037e-17</td>\n",
              "      <td>5.49103709210333e-17</td>\n",
              "      <td>4.96000000000000e-09</td>\n",
              "      <td>3.92430326568353e-26</td>\n",
              "      <td>3.92430326568353e-26</td>\n",
              "      <td>0.443992277431536</td>\n",
              "      <td>0.443992277431536</td>\n",
              "      <td>3.05057616227963e-18</td>\n",
              "      <td>198.556007635631</td>\n",
              "      <td>4.96000024448086e-08</td>\n",
              "      <td>4.96000024448086e-08</td>\n",
              "      <td>3.69017776823749e-09</td>\n",
              "      <td>0.887984554863073</td>\n",
              "      <td>6.10115232455925e-18</td>\n",
              "      <td>1.83034569736778e-15</td>\n",
              "      <td>4.54268668540751e-07</td>\n",
              "    </tr>\n",
              "    <tr>\n",
              "      <th>...</th>\n",
              "      <td>...</td>\n",
              "      <td>...</td>\n",
              "      <td>...</td>\n",
              "      <td>...</td>\n",
              "      <td>...</td>\n",
              "      <td>...</td>\n",
              "      <td>...</td>\n",
              "      <td>...</td>\n",
              "      <td>...</td>\n",
              "      <td>...</td>\n",
              "      <td>...</td>\n",
              "      <td>...</td>\n",
              "      <td>...</td>\n",
              "      <td>...</td>\n",
              "      <td>...</td>\n",
              "      <td>...</td>\n",
              "    </tr>\n",
              "    <tr>\n",
              "      <th>1000028</th>\n",
              "      <td>9.999999e+00</td>\n",
              "      <td>9.999999</td>\n",
              "      <td>0.999997</td>\n",
              "      <td>9.995423</td>\n",
              "      <td>9.995423</td>\n",
              "      <td>0.000002</td>\n",
              "      <td>0.000002</td>\n",
              "      <td>0.555556</td>\n",
              "      <td>-0.000001</td>\n",
              "      <td>6.815096</td>\n",
              "      <td>6.815096</td>\n",
              "      <td>-0.0</td>\n",
              "      <td>0.000004</td>\n",
              "      <td>1.111111</td>\n",
              "      <td>333.333314</td>\n",
              "      <td>-0.000053</td>\n",
              "    </tr>\n",
              "    <tr>\n",
              "      <th>1000029</th>\n",
              "      <td>9.999999e+00</td>\n",
              "      <td>9.999999</td>\n",
              "      <td>0.999998</td>\n",
              "      <td>9.995433</td>\n",
              "      <td>9.995433</td>\n",
              "      <td>0.000002</td>\n",
              "      <td>0.000002</td>\n",
              "      <td>0.555556</td>\n",
              "      <td>-0.000001</td>\n",
              "      <td>6.815103</td>\n",
              "      <td>6.815103</td>\n",
              "      <td>-0.0</td>\n",
              "      <td>0.000004</td>\n",
              "      <td>1.111111</td>\n",
              "      <td>333.333314</td>\n",
              "      <td>-0.000053</td>\n",
              "    </tr>\n",
              "    <tr>\n",
              "      <th>1000030</th>\n",
              "      <td>9.999999e+00</td>\n",
              "      <td>9.999999</td>\n",
              "      <td>0.999999</td>\n",
              "      <td>9.995443</td>\n",
              "      <td>9.995443</td>\n",
              "      <td>0.000002</td>\n",
              "      <td>0.000002</td>\n",
              "      <td>0.555556</td>\n",
              "      <td>-0.000001</td>\n",
              "      <td>6.815109</td>\n",
              "      <td>6.815109</td>\n",
              "      <td>-0.0</td>\n",
              "      <td>0.000004</td>\n",
              "      <td>1.111111</td>\n",
              "      <td>333.333314</td>\n",
              "      <td>-0.000053</td>\n",
              "    </tr>\n",
              "    <tr>\n",
              "      <th>1000031</th>\n",
              "      <td>9.999999e+00</td>\n",
              "      <td>9.999999</td>\n",
              "      <td>1.0</td>\n",
              "      <td>9.995453</td>\n",
              "      <td>9.995453</td>\n",
              "      <td>0.000002</td>\n",
              "      <td>0.000002</td>\n",
              "      <td>0.555556</td>\n",
              "      <td>-0.000001</td>\n",
              "      <td>6.815116</td>\n",
              "      <td>6.815116</td>\n",
              "      <td>-0.0</td>\n",
              "      <td>0.000004</td>\n",
              "      <td>1.111111</td>\n",
              "      <td>333.333314</td>\n",
              "      <td>-0.000053</td>\n",
              "    </tr>\n",
              "    <tr>\n",
              "      <th>1000032</th>\n",
              "      <td>9.999999e+00</td>\n",
              "      <td>9.999999</td>\n",
              "      <td>1.0</td>\n",
              "      <td>9.995456</td>\n",
              "      <td>9.995456</td>\n",
              "      <td>0.000002</td>\n",
              "      <td>0.000002</td>\n",
              "      <td>0.555556</td>\n",
              "      <td>-0.0</td>\n",
              "      <td>6.815118</td>\n",
              "      <td>6.815118</td>\n",
              "      <td>-0.0</td>\n",
              "      <td>0.000004</td>\n",
              "      <td>1.111111</td>\n",
              "      <td>333.333314</td>\n",
              "      <td>-0.000053</td>\n",
              "    </tr>\n",
              "  </tbody>\n",
              "</table>\n",
              "<p>1000032 rows × 16 columns</p>\n",
              "</div>\n",
              "      <button class=\"colab-df-convert\" onclick=\"convertToInteractive('df-b6b0d82f-1a37-436e-94e5-506b0ae420df')\"\n",
              "              title=\"Convert this dataframe to an interactive table.\"\n",
              "              style=\"display:none;\">\n",
              "        \n",
              "  <svg xmlns=\"http://www.w3.org/2000/svg\" height=\"24px\"viewBox=\"0 0 24 24\"\n",
              "       width=\"24px\">\n",
              "    <path d=\"M0 0h24v24H0V0z\" fill=\"none\"/>\n",
              "    <path d=\"M18.56 5.44l.94 2.06.94-2.06 2.06-.94-2.06-.94-.94-2.06-.94 2.06-2.06.94zm-11 1L8.5 8.5l.94-2.06 2.06-.94-2.06-.94L8.5 2.5l-.94 2.06-2.06.94zm10 10l.94 2.06.94-2.06 2.06-.94-2.06-.94-.94-2.06-.94 2.06-2.06.94z\"/><path d=\"M17.41 7.96l-1.37-1.37c-.4-.4-.92-.59-1.43-.59-.52 0-1.04.2-1.43.59L10.3 9.45l-7.72 7.72c-.78.78-.78 2.05 0 2.83L4 21.41c.39.39.9.59 1.41.59.51 0 1.02-.2 1.41-.59l7.78-7.78 2.81-2.81c.8-.78.8-2.07 0-2.86zM5.41 20L4 18.59l7.72-7.72 1.47 1.35L5.41 20z\"/>\n",
              "  </svg>\n",
              "      </button>\n",
              "      \n",
              "  <style>\n",
              "    .colab-df-container {\n",
              "      display:flex;\n",
              "      flex-wrap:wrap;\n",
              "      gap: 12px;\n",
              "    }\n",
              "\n",
              "    .colab-df-convert {\n",
              "      background-color: #E8F0FE;\n",
              "      border: none;\n",
              "      border-radius: 50%;\n",
              "      cursor: pointer;\n",
              "      display: none;\n",
              "      fill: #1967D2;\n",
              "      height: 32px;\n",
              "      padding: 0 0 0 0;\n",
              "      width: 32px;\n",
              "    }\n",
              "\n",
              "    .colab-df-convert:hover {\n",
              "      background-color: #E2EBFA;\n",
              "      box-shadow: 0px 1px 2px rgba(60, 64, 67, 0.3), 0px 1px 3px 1px rgba(60, 64, 67, 0.15);\n",
              "      fill: #174EA6;\n",
              "    }\n",
              "\n",
              "    [theme=dark] .colab-df-convert {\n",
              "      background-color: #3B4455;\n",
              "      fill: #D2E3FC;\n",
              "    }\n",
              "\n",
              "    [theme=dark] .colab-df-convert:hover {\n",
              "      background-color: #434B5C;\n",
              "      box-shadow: 0px 1px 3px 1px rgba(0, 0, 0, 0.15);\n",
              "      filter: drop-shadow(0px 1px 2px rgba(0, 0, 0, 0.3));\n",
              "      fill: #FFFFFF;\n",
              "    }\n",
              "  </style>\n",
              "\n",
              "      <script>\n",
              "        const buttonEl =\n",
              "          document.querySelector('#df-b6b0d82f-1a37-436e-94e5-506b0ae420df button.colab-df-convert');\n",
              "        buttonEl.style.display =\n",
              "          google.colab.kernel.accessAllowed ? 'block' : 'none';\n",
              "\n",
              "        async function convertToInteractive(key) {\n",
              "          const element = document.querySelector('#df-b6b0d82f-1a37-436e-94e5-506b0ae420df');\n",
              "          const dataTable =\n",
              "            await google.colab.kernel.invokeFunction('convertToInteractive',\n",
              "                                                     [key], {});\n",
              "          if (!dataTable) return;\n",
              "\n",
              "          const docLinkHtml = 'Like what you see? Visit the ' +\n",
              "            '<a target=\"_blank\" href=https://colab.research.google.com/notebooks/data_table.ipynb>data table notebook</a>'\n",
              "            + ' to learn more about interactive tables.';\n",
              "          element.innerHTML = '';\n",
              "          dataTable['output_type'] = 'display_data';\n",
              "          await google.colab.output.renderOutput(dataTable, element);\n",
              "          const docLink = document.createElement('div');\n",
              "          docLink.innerHTML = docLinkHtml;\n",
              "          element.appendChild(docLink);\n",
              "        }\n",
              "      </script>\n",
              "    </div>\n",
              "  </div>\n",
              "  "
            ]
          },
          "metadata": {},
          "execution_count": 11
        }
      ]
    },
    {
      "cell_type": "code",
      "source": [
        "from sklearn.metrics import max_error"
      ],
      "metadata": {
        "id": "wyPqDj4PySbQ"
      },
      "execution_count": 12,
      "outputs": []
    },
    {
      "cell_type": "code",
      "source": [
        "from sklearn.preprocessing import StandardScaler\n",
        " "
      ],
      "metadata": {
        "id": "0-kpG4KYygcz"
      },
      "execution_count": 13,
      "outputs": []
    },
    {
      "cell_type": "code",
      "source": [
        "df1=df[['T','Unnamed: 9', \t'Iобщ', \t'Unnamed: 11', \t'Unnamed: 12', \t'wn' ,\t'Unnamed: 14', \t'Unnamed: 15']]"
      ],
      "metadata": {
        "id": "Kt68ezaf89SJ"
      },
      "execution_count": 14,
      "outputs": []
    },
    {
      "cell_type": "code",
      "source": [
        "scaler = StandardScaler().fit(df1)\n",
        "\n",
        "df1=scaler.transform(df1)"
      ],
      "metadata": {
        "id": "lJooG1WXJUFN"
      },
      "execution_count": 15,
      "outputs": []
    },
    {
      "cell_type": "code",
      "source": [
        "df2=df[['Uдс(вход2)', \t'Unnamed: 2', \t'Unnamed: 3', \t'Uдт(вход3)' \t,'Unnamed: 5' \t,'Unnamed: 6' \t,'Uрт(выход)']] \t"
      ],
      "metadata": {
        "id": "_uR0tVTeI3IC"
      },
      "execution_count": 16,
      "outputs": []
    },
    {
      "cell_type": "code",
      "source": [
        "scaler = StandardScaler().fit(df2)\n",
        "\n",
        "df2=scaler.transform(df2)"
      ],
      "metadata": {
        "id": "cKoLO9JTJaxe"
      },
      "execution_count": 17,
      "outputs": []
    },
    {
      "cell_type": "code",
      "source": [
        "from sklearn.model_selection import train_test_split\n",
        "X_train1 ,X_test1,y_train1,y_test1=train_test_split(\n",
        "df1,\n",
        "df2,\n",
        "test_size=0.20    \n",
        ")\n"
      ],
      "metadata": {
        "id": "ky2B2Ty5yp6i"
      },
      "execution_count": 299,
      "outputs": []
    },
    {
      "cell_type": "code",
      "source": [
        "model = Sequential([\n",
        "                   Dense(13,activation='sigmoid', input_shape=[8]),\n",
        "                   Dense(11, activation='sigmoid', input_shape=[8]),\n",
        "                   Dense(9, activation='sigmoid', input_shape=[8]),\n",
        "                   Dense(7, activation='sigmoid', input_shape=[8]),\n",
        "                         ])\n",
        "model.compile(loss='mean_squared_error', optimizer=Nadam(lr=0.0001), metrics=['mean_absolute_error'])\n",
        "\n",
        "X_train1 = np.asarray(X_train1).astype(np.float32)\n",
        "\n",
        "y_train1 = np.asarray(y_train1).astype(np.float32)\n",
        "\n",
        "X_test1 = np.asarray(X_test1).astype(np.float32)\n",
        "\n",
        "history=model.fit(X_train1, y_train1, batch_size=200, epochs=20)\n",
        "\n",
        "res = model.predict(X_test1, verbose = 0)\n",
        "res = np.array(res)\n",
        "detres = res * scaler.scale_[-1] + scaler.mean_[-1]\n",
        "detsource = y_test1 * scaler.scale_[-1] + scaler.mean_[-1]\n",
        "\n",
        "print(detres)\n",
        "print(model.layers[0].get_weights())\n",
        "plt.plot(history.history['loss'])\n",
        "plt.grid(True)\n",
        "plt.show()"
      ],
      "metadata": {
        "colab": {
          "base_uri": "https://localhost:8080/",
          "height": 1000
        },
        "id": "5BSJkeqryzZg",
        "outputId": "2b51cc1c-415d-4952-df8d-689eacca381c"
      },
      "execution_count": 426,
      "outputs": [
        {
          "output_type": "stream",
          "name": "stdout",
          "text": [
            "Epoch 1/20\n"
          ]
        },
        {
          "output_type": "stream",
          "name": "stderr",
          "text": [
            "/usr/local/lib/python3.8/dist-packages/keras/optimizers/optimizer_v2/nadam.py:78: UserWarning: The `lr` argument is deprecated, use `learning_rate` instead.\n",
            "  super(Nadam, self).__init__(name, **kwargs)\n"
          ]
        },
        {
          "output_type": "stream",
          "name": "stdout",
          "text": [
            "4001/4001 [==============================] - 6s 1ms/step - loss: 1.1012 - mean_absolute_error: 0.6454\n",
            "Epoch 2/20\n",
            "4001/4001 [==============================] - 5s 1ms/step - loss: 0.9634 - mean_absolute_error: 0.5198\n",
            "Epoch 3/20\n",
            "4001/4001 [==============================] - 5s 1ms/step - loss: 0.8443 - mean_absolute_error: 0.4197\n",
            "Epoch 4/20\n",
            "4001/4001 [==============================] - 5s 1ms/step - loss: 0.7849 - mean_absolute_error: 0.3743\n",
            "Epoch 5/20\n",
            "4001/4001 [==============================] - 5s 1ms/step - loss: 0.7599 - mean_absolute_error: 0.3481\n",
            "Epoch 6/20\n",
            "4001/4001 [==============================] - 5s 1ms/step - loss: 0.7509 - mean_absolute_error: 0.3369\n",
            "Epoch 7/20\n",
            "4001/4001 [==============================] - 5s 1ms/step - loss: 0.7464 - mean_absolute_error: 0.3293\n",
            "Epoch 8/20\n",
            "4001/4001 [==============================] - 5s 1ms/step - loss: 0.7442 - mean_absolute_error: 0.3257\n",
            "Epoch 9/20\n",
            "4001/4001 [==============================] - 5s 1ms/step - loss: 0.7432 - mean_absolute_error: 0.3249\n",
            "Epoch 10/20\n",
            "4001/4001 [==============================] - 5s 1ms/step - loss: 0.7427 - mean_absolute_error: 0.3245\n",
            "Epoch 11/20\n",
            "4001/4001 [==============================] - 5s 1ms/step - loss: 0.7425 - mean_absolute_error: 0.3242\n",
            "Epoch 12/20\n",
            "4001/4001 [==============================] - 6s 1ms/step - loss: 0.7423 - mean_absolute_error: 0.3239\n",
            "Epoch 13/20\n",
            "4001/4001 [==============================] - 6s 1ms/step - loss: 0.7423 - mean_absolute_error: 0.3237\n",
            "Epoch 14/20\n",
            "4001/4001 [==============================] - 5s 1ms/step - loss: 0.7422 - mean_absolute_error: 0.3234\n",
            "Epoch 15/20\n",
            "4001/4001 [==============================] - 5s 1ms/step - loss: 0.7422 - mean_absolute_error: 0.3232\n",
            "Epoch 16/20\n",
            "4001/4001 [==============================] - 5s 1ms/step - loss: 0.7422 - mean_absolute_error: 0.3229\n",
            "Epoch 17/20\n",
            "4001/4001 [==============================] - 5s 1ms/step - loss: 0.7422 - mean_absolute_error: 0.3226\n",
            "Epoch 18/20\n",
            "4001/4001 [==============================] - 5s 1ms/step - loss: 0.7422 - mean_absolute_error: 0.3223\n",
            "Epoch 19/20\n",
            "4001/4001 [==============================] - 5s 1ms/step - loss: 0.7421 - mean_absolute_error: 0.3221\n",
            "Epoch 20/20\n",
            "4001/4001 [==============================] - 5s 1ms/step - loss: 0.7421 - mean_absolute_error: 0.3220\n",
            "[[0.55758274 0.55530196 0.55530196 ... 0.55530196 0.55530196 0.55747634]\n",
            " [0.5553021  0.6297774  0.6297726  ... 0.55530214 0.5553025  0.5553021 ]\n",
            " [0.5752796  0.55530196 0.55530196 ... 0.55530196 0.55530196 0.57527846]\n",
            " ...\n",
            " [0.555302   0.6570569  0.65700257 ... 0.555305   0.55530685 0.555302  ]\n",
            " [0.555302   0.653774   0.65354085 ... 0.55530256 0.5553034  0.555302  ]\n",
            " [0.555302   0.6572921  0.6572858  ... 0.55531836 0.5553198  0.55530196]]\n",
            "[array([[-0.38773367, -0.19059043, -2.8898568 ,  0.2512025 , -0.6072035 ,\n",
            "         0.91008675, -1.3847708 ,  1.2638124 ,  0.24831836, -0.65324146,\n",
            "        -0.3785339 , -1.4666837 ,  0.0652221 ],\n",
            "       [ 1.6788678 ,  1.5311464 ,  1.0213298 , -1.1211855 , -0.13667743,\n",
            "        -0.8148778 , -1.276097  , -0.5602227 , -1.1077905 ,  0.12833633,\n",
            "         1.2376262 , -1.3899841 ,  0.83659065],\n",
            "       [ 1.6719214 ,  1.447256  ,  0.98517746, -1.0694246 , -0.07866496,\n",
            "        -0.3462141 , -0.97524697, -0.8573471 , -0.8313965 , -0.13685569,\n",
            "         1.4421283 , -1.6009767 ,  1.3436425 ],\n",
            "       [-0.20821501, -0.20049605,  0.4791772 , -0.17485228, -0.06406721,\n",
            "        -0.4185824 , -0.54062533, -0.75162685, -0.81762785,  0.10748944,\n",
            "         0.20270288, -0.1469431 , -0.2510594 ],\n",
            "       [-0.05586456, -0.04715582,  0.03088687, -0.08127035, -0.03251934,\n",
            "        -0.15885721, -0.02782091, -0.32128105, -0.10629448, -0.03724622,\n",
            "        -0.08350988, -0.15395367, -0.10278604],\n",
            "       [-0.02215724,  0.03952196, -2.7825553 , -0.1335898 , -0.81433785,\n",
            "         0.2394147 , -0.86800057,  1.2414325 ,  0.36269435, -0.6360786 ,\n",
            "        -0.07879678, -1.7482498 , -0.45204934],\n",
            "       [-0.12330174, -0.22578602, -3.415827  , -0.12134934, -0.9423826 ,\n",
            "         0.5538462 , -1.487874  ,  1.3873376 , -0.40463126, -0.26731324,\n",
            "        -0.10876487, -2.3290699 , -0.27660993],\n",
            "       [-0.23315041,  0.10517702,  1.0526392 , -0.71298105, -0.46748102,\n",
            "        -0.45379454,  0.34570205, -0.0255143 ,  0.08112771,  0.12865318,\n",
            "        -0.6555678 , -0.23296534, -0.10000278]], dtype=float32), array([ 0.0728178 , -0.22849657, -0.5368915 ,  1.2274625 ,  1.0987822 ,\n",
            "        0.06047882,  1.3142412 ,  0.41828984,  1.014615  ,  0.78299713,\n",
            "       -0.00743077,  2.430956  ,  0.06408177], dtype=float32)]\n"
          ]
        },
        {
          "output_type": "display_data",
          "data": {
            "text/plain": [
              "<Figure size 432x288 with 1 Axes>"
            ],
            "image/png": "[encoded data removed]"
          },
          "metadata": {
            "needs_background": "light"
          }
        }
      ]
    },
    {
      "cell_type": "code",
      "source": [
        "res = model.predict(X_test1, verbose = 0)\n",
        "res = np.array(res)\n",
        "detres = res * scaler.scale_[-1] + scaler.mean_[-1]\n",
        "detsource = y_test1 * scaler.scale_[-1] + scaler.mean_[-1]"
      ],
      "metadata": {
        "id": "0p6O_UfSrbsB"
      },
      "execution_count": 427,
      "outputs": []
    },
    {
      "cell_type": "code",
      "source": [
        "x=[]\n"
      ],
      "metadata": {
        "id": "2cjMhj23Xp0U"
      },
      "execution_count": 429,
      "outputs": []
    },
    {
      "cell_type": "code",
      "source": [
        "from numpy import arange\n",
        "for i in arange(-10.0, 10.0, 0.1):\n",
        "  x.append(i)"
      ],
      "metadata": {
        "id": "QoxbKchwzAdJ"
      },
      "execution_count": 430,
      "outputs": []
    },
    {
      "cell_type": "code",
      "source": [
        "myarray = np.asarray(x)"
      ],
      "metadata": {
        "id": "hSVxz1f1Sisy"
      },
      "execution_count": 431,
      "outputs": []
    },
    {
      "cell_type": "code",
      "source": [
        "v=myarray.reshape(-1,8)"
      ],
      "metadata": {
        "id": "uGEdLGC5doeD"
      },
      "execution_count": 432,
      "outputs": []
    },
    {
      "cell_type": "code",
      "source": [
        "detres.shape"
      ],
      "metadata": {
        "colab": {
          "base_uri": "https://localhost:8080/"
        },
        "id": "0fTEDukteDbJ",
        "outputId": "03c6a7ab-41f9-472f-988a-346b6289709b"
      },
      "execution_count": 349,
      "outputs": [
        {
          "output_type": "execute_result",
          "data": {
            "text/plain": [
              "(200007, 7)"
            ]
          },
          "metadata": {},
          "execution_count": 349
        }
      ]
    },
    {
      "cell_type": "code",
      "source": [
        "X_test1.shape"
      ],
      "metadata": {
        "colab": {
          "base_uri": "https://localhost:8080/"
        },
        "id": "Ufb7dq7wYtsz",
        "outputId": "0ba988c3-2569-48a9-b622-620771bd28fc"
      },
      "execution_count": 321,
      "outputs": [
        {
          "output_type": "execute_result",
          "data": {
            "text/plain": [
              "(200007, 8)"
            ]
          },
          "metadata": {},
          "execution_count": 321
        }
      ]
    },
    {
      "cell_type": "code",
      "source": [
        "sss=model.predict(v)\n",
        "y_test1[:25].shape"
      ],
      "metadata": {
        "colab": {
          "base_uri": "https://localhost:8080/"
        },
        "id": "4wqyFynzmtuf",
        "outputId": "3ed52ff1-cb74-41b5-eb65-59b0c3ccdd28"
      },
      "execution_count": 433,
      "outputs": [
        {
          "output_type": "stream",
          "name": "stdout",
          "text": [
            "1/1 [==============================] - 0s 14ms/step\n"
          ]
        },
        {
          "output_type": "execute_result",
          "data": {
            "text/plain": [
              "(25, 7)"
            ]
          },
          "metadata": {},
          "execution_count": 433
        }
      ]
    },
    {
      "cell_type": "code",
      "source": [
        "from sklearn import metrics\n",
        "print(\"Максимальная ошибка  на тестовом наборе: {:.2f}\".format(metrics.mean_absolute_error(sss,detsource[:25])))"
      ],
      "metadata": {
        "colab": {
          "base_uri": "https://localhost:8080/"
        },
        "id": "xKDEp5D6h5IZ",
        "outputId": "2f78581f-cd24-4b5e-eec6-a687383a5610"
      },
      "execution_count": 434,
      "outputs": [
        {
          "output_type": "stream",
          "name": "stdout",
          "text": [
            "Максимальная ошибка  на тестовом наборе: 0.53\n"
          ]
        }
      ]
    },
    {
      "cell_type": "code",
      "source": [
        "y_test1"
      ],
      "metadata": {
        "colab": {
          "base_uri": "https://localhost:8080/"
        },
        "id": "fqyaiBTxuWfM",
        "outputId": "414a27ea-9dfa-4742-c912-fe4703c10b67"
      },
      "execution_count": 342,
      "outputs": [
        {
          "output_type": "execute_result",
          "data": {
            "text/plain": [
              "array([[ 2.75967146e-02, -5.09462352e-01, -4.84004402e-01, ...,\n",
              "         2.24690394e-03,  2.24690394e-03,  2.75967146e-02],\n",
              "       [ 2.50237898e-03,  7.29532961e-01,  7.29013591e-01, ...,\n",
              "         4.49731304e-05,  4.49731304e-05,  2.50237898e-03],\n",
              "       [ 1.91009093e-01, -8.55276983e-01, -8.27392991e-01, ...,\n",
              "         1.64429316e-02,  1.64429316e-02,  1.91009093e-01],\n",
              "       ...,\n",
              "       [ 2.48811447e-03,  1.03857339e+00,  1.03138294e+00, ...,\n",
              "         4.36791216e-05,  4.36791216e-05,  2.48811447e-03],\n",
              "       [ 2.48970184e-03,  9.60809269e-01,  9.55297526e-01, ...,\n",
              "         4.38238854e-05,  4.38238854e-05,  2.48970184e-03],\n",
              "       [ 2.48679346e-03,  1.15180924e+00,  1.14217431e+00, ...,\n",
              "         4.35582774e-05,  4.35582774e-05,  2.48679346e-03]])"
            ]
          },
          "metadata": {},
          "execution_count": 342
        }
      ]
    },
    {
      "cell_type": "code",
      "source": [
        "sss"
      ],
      "metadata": {
        "colab": {
          "base_uri": "https://localhost:8080/"
        },
        "id": "qbuF_YY9uZ_D",
        "outputId": "3e942c47-27fb-482c-f577-92678c91efb9"
      },
      "execution_count": 343,
      "outputs": [
        {
          "output_type": "execute_result",
          "data": {
            "text/plain": [
              "array([[ -3.4593062 ,  -1.6511676 ,  -1.557725  ,  -1.5189536 ,\n",
              "        -17.639482  , -17.36426   ,  -3.4362965 ],\n",
              "       [ -3.572784  ,  -1.6854769 ,  -1.5922087 ,  -1.5532039 ,\n",
              "        -17.093292  , -16.825266  ,  -3.5504932 ],\n",
              "       [ -3.700366  ,  -1.7234143 ,  -1.6277994 ,  -1.5886106 ,\n",
              "        -16.422525  , -16.163864  ,  -3.6789112 ],\n",
              "       [ -3.8316143 ,  -1.7640986 ,  -1.6632187 ,  -1.6240796 ,\n",
              "        -15.612964  , -15.366903  ,  -3.8112826 ],\n",
              "       [ -3.9462328 ,  -1.8052561 ,  -1.6961787 ,  -1.657631  ,\n",
              "        -14.656165  , -14.427353  ,  -3.9276018 ],\n",
              "       [ -4.0115204 ,  -1.8423026 ,  -1.7227623 ,  -1.6857778 ,\n",
              "        -13.548343  , -13.343042  ,  -3.995555  ],\n",
              "       [ -3.9828923 ,  -1.8669822 ,  -1.7362865 ,  -1.7022777 ,\n",
              "        -12.2810545 , -12.106896  ,  -3.9708586 ],\n",
              "       [ -3.8110592 ,  -1.8650113 ,  -1.7250017 ,  -1.6955305 ,\n",
              "        -10.820709  , -10.685295  ,  -3.803937  ],\n",
              "       [ -3.4571664 ,  -1.8112957 ,  -1.6676459 ,  -1.6436409 ,\n",
              "         -9.088382  ,  -8.995593  ,  -3.4542594 ],\n",
              "       [ -2.905838  ,  -1.6612338 ,  -1.5259517 ,  -1.5067674 ,\n",
              "         -6.9812875 ,  -6.925237  ,  -2.9032147 ],\n",
              "       [ -2.1545892 ,  -1.3465536 ,  -1.2390392 ,  -1.2231706 ,\n",
              "         -4.489319  ,  -4.4531436 ,  -2.1468353 ],\n",
              "       [ -1.1974071 ,  -0.817021  ,  -0.7536267 ,  -0.7432533 ,\n",
              "         -1.8859826 ,  -1.859961  ,  -1.1872523 ],\n",
              "       [ -0.06935954,  -0.16137516,  -0.14235628,  -0.14493406,\n",
              "          0.22121954,   0.2224834 ,  -0.07257009],\n",
              "       [  1.0983648 ,   0.3739648 ,   0.34805143,   0.32998514,\n",
              "          1.2844368 ,   1.2523206 ,   1.072848  ],\n",
              "       [  2.0987089 ,   0.66050637,   0.5783168 ,   0.54886794,\n",
              "          1.5133954 ,   1.4583608 ,   2.0557013 ],\n",
              "       [  2.7692637 ,   0.77200997,   0.64254844,   0.60504746,\n",
              "          1.7117981 ,   1.6456212 ,   2.7137666 ],\n",
              "       [  3.129013  ,   0.7974435 ,   0.6506351 ,   0.6066923 ,\n",
              "          2.2634864 ,   2.194923  ,   3.06314   ],\n",
              "       [  3.3016186 ,   0.77741396,   0.63687694,   0.58778524,\n",
              "          3.0299835 ,   2.9644618 ,   3.227045  ],\n",
              "       [  3.3890758 ,   0.73023283,   0.6059027 ,   0.55293226,\n",
              "          3.8126593 ,   3.7527528 ,   3.307662  ],\n",
              "       [  3.4443917 ,   0.66725886,   0.56078804,   0.50500655,\n",
              "          4.5213366 ,   4.4678283 ,   3.357799  ],\n",
              "       [  3.488679  ,   0.5959858 ,   0.50589824,   0.4480989 ,\n",
              "          5.140953  ,   5.093733  ,   3.3981752 ],\n",
              "       [  3.5281005 ,   0.5211717 ,   0.4453684 ,   0.3861133 ,\n",
              "          5.6844015 ,   5.6429887 ,   3.434599  ],\n",
              "       [  3.5631166 ,   0.44579136,   0.38241816,   0.32210684,\n",
              "          6.169419  ,   6.1332006 ,   3.46727   ],\n",
              "       [  3.592548  ,   0.37170565,   0.31932497,   0.25825155,\n",
              "          6.610944  ,   6.579281  ,   3.4948397 ],\n",
              "       [  3.6151366 ,   0.30006564,   0.2575997 ,   0.19599378,\n",
              "          7.019755  ,   6.992018  ,   3.5159435 ]], dtype=float32)"
            ]
          },
          "metadata": {},
          "execution_count": 343
        }
      ]
    },
    {
      "cell_type": "code",
      "source": [
        "import matplotlib.cm as cm\n",
        "import matplotlib.pyplot as plt\n",
        "import matplotlib.colors as mcolors\n",
        "import numpy as np\n"
      ],
      "metadata": {
        "id": "ntKat7RY1c9x"
      },
      "execution_count": 449,
      "outputs": []
    },
    {
      "cell_type": "code",
      "source": [
        "cmap, norm = mcolors.from_levels_and_colors([0, 2, 5, 6], ['red', 'green', 'blue'])"
      ],
      "metadata": {
        "id": "YlsvCjQj2Mln"
      },
      "execution_count": 463,
      "outputs": []
    },
    {
      "cell_type": "code",
      "source": [
        "plt.scatter(sss,y_test1[:25],c='blue')\n"
      ],
      "metadata": {
        "colab": {
          "base_uri": "https://localhost:8080/",
          "height": 283
        },
        "id": "nD_t6exiiMia",
        "outputId": "56bfbbc9-e4ab-4c1b-99c4-1e24f8dc815c"
      },
      "execution_count": 476,
      "outputs": [
        {
          "output_type": "execute_result",
          "data": {
            "text/plain": [
              "<matplotlib.collections.PathCollection at 0x7f6d65220a90>"
            ]
          },
          "metadata": {},
          "execution_count": 476
        },
        {
          "output_type": "display_data",
          "data": {
            "text/plain": [
              "<Figure size 432x288 with 1 Axes>"
            ],
            "image/png": "[encoded data removed]"
          },
          "metadata": {
            "needs_background": "light"
          }
        }
      ]
    },
    {
      "cell_type": "code",
      "source": [
        "y_train1.shape"
      ],
      "metadata": {
        "colab": {
          "base_uri": "https://localhost:8080/"
        },
        "id": "AC-O_sZSt2Em",
        "outputId": "9e68388b-d621-432d-e7cb-ceb21edef6b5"
      },
      "execution_count": 215,
      "outputs": [
        {
          "output_type": "execute_result",
          "data": {
            "text/plain": [
              "(800025, 7)"
            ]
          },
          "metadata": {},
          "execution_count": 215
        }
      ]
    },
    {
      "cell_type": "code",
      "source": [
        "X_test1.dtype"
      ],
      "metadata": {
        "colab": {
          "base_uri": "https://localhost:8080/"
        },
        "id": "kK2CpN9KYQDF",
        "outputId": "b78f33d4-4cc7-4701-bc0f-4b3ae4e564a8"
      },
      "execution_count": 40,
      "outputs": [
        {
          "output_type": "execute_result",
          "data": {
            "text/plain": [
              "dtype('float32')"
            ]
          },
          "metadata": {},
          "execution_count": 40
        }
      ]
    }
  ]
}